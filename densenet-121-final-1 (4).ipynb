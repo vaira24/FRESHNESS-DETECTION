{
 "cells": [
  {
   "cell_type": "code",
   "execution_count": 1,
   "id": "1b2a9440",
   "metadata": {
    "_cell_guid": "b1076dfc-b9ad-4769-8c92-a6c4dae69d19",
    "_uuid": "8f2839f25d086af736a60e9eeb907d3b93b6e0e5",
    "execution": {
     "iopub.execute_input": "2024-10-18T04:10:26.213350Z",
     "iopub.status.busy": "2024-10-18T04:10:26.213026Z",
     "iopub.status.idle": "2024-10-18T04:10:39.807501Z",
     "shell.execute_reply": "2024-10-18T04:10:39.806682Z"
    },
    "papermill": {
     "duration": 13.603727,
     "end_time": "2024-10-18T04:10:39.809944",
     "exception": false,
     "start_time": "2024-10-18T04:10:26.206217",
     "status": "completed"
    },
    "tags": []
   },
   "outputs": [],
   "source": [
    "import numpy as np\n",
    "import pandas as pd\n",
    "import matplotlib.pyplot as plt\n",
    "from sklearn.metrics import accuracy_score, precision_score, recall_score, f1_score, roc_auc_score, confusion_matrix, log_loss, classification_report\n",
    "from sklearn.model_selection import train_test_split\n",
    "from sklearn.preprocessing import LabelBinarizer\n",
    "from tensorflow.keras.applications import DenseNet121\n",
    "from tensorflow.keras.layers import Dense, Flatten, Dropout, BatchNormalization\n",
    "from tensorflow.keras.models import Model\n",
    "from tensorflow.keras.optimizers import Adam\n",
    "from tensorflow.keras.utils import to_categorical\n",
    "from tensorflow.keras.preprocessing.image import ImageDataGenerator\n",
    "from tensorflow.keras.callbacks import EarlyStopping, ModelCheckpoint\n",
    "from tensorflow.keras.regularizers import l2"
   ]
  },
  {
   "cell_type": "code",
   "execution_count": 2,
   "id": "4b671393",
   "metadata": {
    "execution": {
     "iopub.execute_input": "2024-10-18T04:10:39.822181Z",
     "iopub.status.busy": "2024-10-18T04:10:39.821423Z",
     "iopub.status.idle": "2024-10-18T04:10:48.429657Z",
     "shell.execute_reply": "2024-10-18T04:10:48.428878Z"
    },
    "papermill": {
     "duration": 8.616135,
     "end_time": "2024-10-18T04:10:48.431643",
     "exception": false,
     "start_time": "2024-10-18T04:10:39.815508",
     "status": "completed"
    },
    "tags": []
   },
   "outputs": [
    {
     "name": "stdout",
     "output_type": "stream",
     "text": [
      "Found 14927 images belonging to 26 classes.\n",
      "Found 3715 images belonging to 26 classes.\n"
     ]
    }
   ],
   "source": [
    "# Data Preprocessing and Augmentation\n",
    "train_datagen = ImageDataGenerator(\n",
    "    rescale=1./255,\n",
    "    rotation_range=40,\n",
    "    width_shift_range=0.2,\n",
    "    height_shift_range=0.2,\n",
    "    shear_range=0.2,\n",
    "    zoom_range=0.2,\n",
    "    horizontal_flip=True,\n",
    "    fill_mode='nearest',\n",
    "    validation_split=0.2\n",
    ")\n",
    "\n",
    "train_data = train_datagen.flow_from_directory(\n",
    "    '/kaggle/input/whole-proper-dataset-for-freshness-detection/FRESHNESSDATASET(PROPER)',\n",
    "    target_size=(224, 224),\n",
    "    batch_size=32,\n",
    "    class_mode='categorical',\n",
    "    subset='training'\n",
    ")\n",
    "\n",
    "val_data = train_datagen.flow_from_directory(\n",
    "    '/kaggle/input/whole-proper-dataset-for-freshness-detection/FRESHNESSDATASET(PROPER)',\n",
    "    target_size=(224, 224),\n",
    "    batch_size=32,\n",
    "    class_mode='categorical',\n",
    "    subset='validation'\n",
    ")"
   ]
  },
  {
   "cell_type": "code",
   "execution_count": 3,
   "id": "902853a2",
   "metadata": {
    "execution": {
     "iopub.execute_input": "2024-10-18T04:10:48.443705Z",
     "iopub.status.busy": "2024-10-18T04:10:48.443385Z",
     "iopub.status.idle": "2024-10-18T04:10:51.914518Z",
     "shell.execute_reply": "2024-10-18T04:10:51.913668Z"
    },
    "papermill": {
     "duration": 3.479776,
     "end_time": "2024-10-18T04:10:51.916861",
     "exception": false,
     "start_time": "2024-10-18T04:10:48.437085",
     "status": "completed"
    },
    "tags": []
   },
   "outputs": [
    {
     "name": "stdout",
     "output_type": "stream",
     "text": [
      "Downloading data from https://storage.googleapis.com/tensorflow/keras-applications/densenet/densenet121_weights_tf_dim_ordering_tf_kernels_notop.h5\n",
      "\u001b[1m29084464/29084464\u001b[0m \u001b[32m━━━━━━━━━━━━━━━━━━━━\u001b[0m\u001b[37m\u001b[0m \u001b[1m0s\u001b[0m 0us/step\n"
     ]
    }
   ],
   "source": [
    "# Load and Customize DenseNet121 Model\n",
    "base_model = DenseNet121(weights='imagenet', include_top=False, input_shape=(224, 224, 3))\n",
    "x = Flatten()(base_model.output)\n",
    "x = Dense(128, activation='relu')(x)\n",
    "x = Dropout(0.5)(x)  # Add Dropout to prevent overfitting\n",
    "output = Dense(26, activation='softmax')(x)\n",
    "model = Model(inputs=base_model.input, outputs=output)\n",
    "\n",
    "model.compile(optimizer=Adam(), loss='categorical_crossentropy', metrics=['accuracy'])"
   ]
  },
  {
   "cell_type": "code",
   "execution_count": 4,
   "id": "1e512b94",
   "metadata": {
    "execution": {
     "iopub.execute_input": "2024-10-18T04:10:51.929621Z",
     "iopub.status.busy": "2024-10-18T04:10:51.929312Z",
     "iopub.status.idle": "2024-10-18T04:10:53.819644Z",
     "shell.execute_reply": "2024-10-18T04:10:53.818843Z"
    },
    "papermill": {
     "duration": 1.899336,
     "end_time": "2024-10-18T04:10:53.822034",
     "exception": false,
     "start_time": "2024-10-18T04:10:51.922698",
     "status": "completed"
    },
    "tags": []
   },
   "outputs": [],
   "source": [
    "# Load DenseNet121 Model with fewer frozen layers\n",
    "base_model = DenseNet121(weights='imagenet', include_top=False, input_shape=(224, 224, 3))"
   ]
  },
  {
   "cell_type": "code",
   "execution_count": 5,
   "id": "598490ee",
   "metadata": {
    "execution": {
     "iopub.execute_input": "2024-10-18T04:10:53.836852Z",
     "iopub.status.busy": "2024-10-18T04:10:53.836530Z",
     "iopub.status.idle": "2024-10-18T04:10:53.845461Z",
     "shell.execute_reply": "2024-10-18T04:10:53.844585Z"
    },
    "papermill": {
     "duration": 0.017697,
     "end_time": "2024-10-18T04:10:53.847333",
     "exception": false,
     "start_time": "2024-10-18T04:10:53.829636",
     "status": "completed"
    },
    "tags": []
   },
   "outputs": [],
   "source": [
    "# Freeze the first 50 layers (instead of 100) to allow learning in later layers\n",
    "for layer in base_model.layers[:50]:\n",
    "    layer.trainable = False\n",
    "for layer in base_model.layers[50:]:\n",
    "    layer.trainable = True"
   ]
  },
  {
   "cell_type": "code",
   "execution_count": 6,
   "id": "5a3caa49",
   "metadata": {
    "execution": {
     "iopub.execute_input": "2024-10-18T04:10:53.859599Z",
     "iopub.status.busy": "2024-10-18T04:10:53.859308Z",
     "iopub.status.idle": "2024-10-18T04:10:53.891169Z",
     "shell.execute_reply": "2024-10-18T04:10:53.890512Z"
    },
    "papermill": {
     "duration": 0.040161,
     "end_time": "2024-10-18T04:10:53.893043",
     "exception": false,
     "start_time": "2024-10-18T04:10:53.852882",
     "status": "completed"
    },
    "tags": []
   },
   "outputs": [],
   "source": [
    "# Add custom layers\n",
    "x = Flatten()(base_model.output)\n",
    "x = BatchNormalization()(x)  # Adding Batch Normalization\n",
    "x = Dense(256, activation='relu', kernel_regularizer=l2(0.01))(x)  # Added L2 regularization to the dense layer\n",
    "x = Dropout(0.4)(x)  # Dropout rate increased to 0.4 to improve regularization\n",
    "output = Dense(26, activation='softmax')(x)\n"
   ]
  },
  {
   "cell_type": "code",
   "execution_count": 7,
   "id": "1adca3c5",
   "metadata": {
    "execution": {
     "iopub.execute_input": "2024-10-18T04:10:53.905185Z",
     "iopub.status.busy": "2024-10-18T04:10:53.904902Z",
     "iopub.status.idle": "2024-10-18T04:10:53.969918Z",
     "shell.execute_reply": "2024-10-18T04:10:53.969076Z"
    },
    "papermill": {
     "duration": 0.07327,
     "end_time": "2024-10-18T04:10:53.971887",
     "exception": false,
     "start_time": "2024-10-18T04:10:53.898617",
     "status": "completed"
    },
    "tags": []
   },
   "outputs": [],
   "source": [
    "# Build the final model\n",
    "model = Model(inputs=base_model.input, outputs=output)\n"
   ]
  },
  {
   "cell_type": "code",
   "execution_count": 8,
   "id": "10735856",
   "metadata": {
    "execution": {
     "iopub.execute_input": "2024-10-18T04:10:53.983914Z",
     "iopub.status.busy": "2024-10-18T04:10:53.983624Z",
     "iopub.status.idle": "2024-10-18T04:10:53.992540Z",
     "shell.execute_reply": "2024-10-18T04:10:53.991678Z"
    },
    "papermill": {
     "duration": 0.017067,
     "end_time": "2024-10-18T04:10:53.994463",
     "exception": false,
     "start_time": "2024-10-18T04:10:53.977396",
     "status": "completed"
    },
    "tags": []
   },
   "outputs": [],
   "source": [
    "# Compile the model with an increased learning rate for faster learning\n",
    "model.compile(optimizer=Adam(learning_rate=1e-3), loss='categorical_crossentropy', metrics=['accuracy'])"
   ]
  },
  {
   "cell_type": "code",
   "execution_count": 9,
   "id": "4d1ccb34",
   "metadata": {
    "execution": {
     "iopub.execute_input": "2024-10-18T04:10:54.006425Z",
     "iopub.status.busy": "2024-10-18T04:10:54.006131Z",
     "iopub.status.idle": "2024-10-18T04:10:54.010232Z",
     "shell.execute_reply": "2024-10-18T04:10:54.009427Z"
    },
    "papermill": {
     "duration": 0.012091,
     "end_time": "2024-10-18T04:10:54.012012",
     "exception": false,
     "start_time": "2024-10-18T04:10:53.999921",
     "status": "completed"
    },
    "tags": []
   },
   "outputs": [],
   "source": [
    "model_checkpoint = ModelCheckpoint('best_model_dense121.keras', monitor='val_loss', save_best_only=True)"
   ]
  },
  {
   "cell_type": "code",
   "execution_count": 10,
   "id": "e0033889",
   "metadata": {
    "execution": {
     "iopub.execute_input": "2024-10-18T04:10:54.023861Z",
     "iopub.status.busy": "2024-10-18T04:10:54.023585Z",
     "iopub.status.idle": "2024-10-18T04:10:54.027740Z",
     "shell.execute_reply": "2024-10-18T04:10:54.027029Z"
    },
    "papermill": {
     "duration": 0.012064,
     "end_time": "2024-10-18T04:10:54.029520",
     "exception": false,
     "start_time": "2024-10-18T04:10:54.017456",
     "status": "completed"
    },
    "tags": []
   },
   "outputs": [],
   "source": [
    "# EarlyStopping and ModelCheckpoint callbacks to prevent overfitting\n",
    "early_stopping = EarlyStopping(monitor='val_loss', patience=7, restore_best_weights=True)\n",
    "model_checkpoint = ModelCheckpoint('best_model_dense121.keras', monitor='val_loss', save_best_only=True)"
   ]
  },
  {
   "cell_type": "code",
   "execution_count": 11,
   "id": "92b26294",
   "metadata": {
    "execution": {
     "iopub.execute_input": "2024-10-18T04:10:54.041698Z",
     "iopub.status.busy": "2024-10-18T04:10:54.041432Z",
     "iopub.status.idle": "2024-10-18T05:17:25.424157Z",
     "shell.execute_reply": "2024-10-18T05:17:25.423135Z"
    },
    "papermill": {
     "duration": 3991.605066,
     "end_time": "2024-10-18T05:17:25.640192",
     "exception": false,
     "start_time": "2024-10-18T04:10:54.035126",
     "status": "completed"
    },
    "tags": []
   },
   "outputs": [
    {
     "name": "stdout",
     "output_type": "stream",
     "text": [
      "Epoch 1/15\n"
     ]
    },
    {
     "name": "stderr",
     "output_type": "stream",
     "text": [
      "/opt/conda/lib/python3.10/site-packages/keras/src/trainers/data_adapters/py_dataset_adapter.py:121: UserWarning: Your `PyDataset` class should call `super().__init__(**kwargs)` in its constructor. `**kwargs` can include `workers`, `use_multiprocessing`, `max_queue_size`. Do not pass these arguments to `fit()`, as they will be ignored.\n",
      "  self._warn_if_super_not_called()\n",
      "WARNING: All log messages before absl::InitializeLog() is called are written to STDERR\n",
      "I0000 00:00:1729224713.506492      80 service.cc:145] XLA service 0x7e99f4004e50 initialized for platform CUDA (this does not guarantee that XLA will be used). Devices:\n",
      "I0000 00:00:1729224713.506579      80 service.cc:153]   StreamExecutor device (0): Tesla P100-PCIE-16GB, Compute Capability 6.0\n",
      "WARNING: All log messages before absl::InitializeLog() is called are written to STDERR\n",
      "I0000 00:00:1729224793.196539      80 asm_compiler.cc:369] ptxas warning : Registers are spilled to local memory in function 'input_reduce_select_slice_fusion_2', 8 bytes spill stores, 8 bytes spill loads\n",
      "\n",
      "I0000 00:00:1729224793.348707      80 device_compiler.h:188] Compiled cluster using XLA!  This line is logged at most once for the lifetime of the process.\n"
     ]
    },
    {
     "name": "stdout",
     "output_type": "stream",
     "text": [
      "\u001b[1m 63/467\u001b[0m \u001b[32m━━\u001b[0m\u001b[37m━━━━━━━━━━━━━━━━━━\u001b[0m \u001b[1m3:46\u001b[0m 562ms/step - accuracy: 0.2625 - loss: 11.4489"
     ]
    },
    {
     "name": "stderr",
     "output_type": "stream",
     "text": [
      "/opt/conda/lib/python3.10/site-packages/PIL/Image.py:1056: UserWarning: Palette images with Transparency expressed in bytes should be converted to RGBA images\n",
      "  warnings.warn(\n"
     ]
    },
    {
     "name": "stdout",
     "output_type": "stream",
     "text": [
      "\u001b[1m467/467\u001b[0m \u001b[32m━━━━━━━━━━━━━━━━━━━━\u001b[0m\u001b[37m\u001b[0m \u001b[1m566s\u001b[0m 917ms/step - accuracy: 0.3741 - loss: 11.3579 - val_accuracy: 0.3534 - val_loss: 7.7490\n",
      "Epoch 2/15\n",
      "\u001b[1m467/467\u001b[0m \u001b[32m━━━━━━━━━━━━━━━━━━━━\u001b[0m\u001b[37m\u001b[0m \u001b[1m249s\u001b[0m 528ms/step - accuracy: 0.5831 - loss: 5.5504 - val_accuracy: 0.6310 - val_loss: 4.0370\n",
      "Epoch 3/15\n",
      "\u001b[1m467/467\u001b[0m \u001b[32m━━━━━━━━━━━━━━━━━━━━\u001b[0m\u001b[37m\u001b[0m \u001b[1m244s\u001b[0m 516ms/step - accuracy: 0.6655 - loss: 3.4906 - val_accuracy: 0.6738 - val_loss: 3.5606\n",
      "Epoch 4/15\n",
      "\u001b[1m467/467\u001b[0m \u001b[32m━━━━━━━━━━━━━━━━━━━━\u001b[0m\u001b[37m\u001b[0m \u001b[1m240s\u001b[0m 509ms/step - accuracy: 0.7044 - loss: 3.0590 - val_accuracy: 0.6304 - val_loss: 4.4014\n",
      "Epoch 5/15\n",
      "\u001b[1m467/467\u001b[0m \u001b[32m━━━━━━━━━━━━━━━━━━━━\u001b[0m\u001b[37m\u001b[0m \u001b[1m242s\u001b[0m 513ms/step - accuracy: 0.7226 - loss: 2.9335 - val_accuracy: 0.6425 - val_loss: 4.6858\n",
      "Epoch 6/15\n",
      "\u001b[1m467/467\u001b[0m \u001b[32m━━━━━━━━━━━━━━━━━━━━\u001b[0m\u001b[37m\u001b[0m \u001b[1m243s\u001b[0m 515ms/step - accuracy: 0.7268 - loss: 2.8054 - val_accuracy: 0.6918 - val_loss: 3.4837\n",
      "Epoch 7/15\n",
      "\u001b[1m467/467\u001b[0m \u001b[32m━━━━━━━━━━━━━━━━━━━━\u001b[0m\u001b[37m\u001b[0m \u001b[1m244s\u001b[0m 516ms/step - accuracy: 0.7493 - loss: 2.5272 - val_accuracy: 0.6503 - val_loss: 4.1023\n",
      "Epoch 8/15\n",
      "\u001b[1m467/467\u001b[0m \u001b[32m━━━━━━━━━━━━━━━━━━━━\u001b[0m\u001b[37m\u001b[0m \u001b[1m245s\u001b[0m 519ms/step - accuracy: 0.7564 - loss: 2.7841 - val_accuracy: 0.6824 - val_loss: 2.8066\n",
      "Epoch 9/15\n",
      "\u001b[1m467/467\u001b[0m \u001b[32m━━━━━━━━━━━━━━━━━━━━\u001b[0m\u001b[37m\u001b[0m \u001b[1m244s\u001b[0m 516ms/step - accuracy: 0.7596 - loss: 2.6126 - val_accuracy: 0.7292 - val_loss: 2.6388\n",
      "Epoch 10/15\n",
      "\u001b[1m467/467\u001b[0m \u001b[32m━━━━━━━━━━━━━━━━━━━━\u001b[0m\u001b[37m\u001b[0m \u001b[1m259s\u001b[0m 509ms/step - accuracy: 0.7947 - loss: 2.1717 - val_accuracy: 0.7354 - val_loss: 3.1806\n",
      "Epoch 11/15\n",
      "\u001b[1m467/467\u001b[0m \u001b[32m━━━━━━━━━━━━━━━━━━━━\u001b[0m\u001b[37m\u001b[0m \u001b[1m241s\u001b[0m 510ms/step - accuracy: 0.7850 - loss: 2.4926 - val_accuracy: 0.7179 - val_loss: 2.6540\n",
      "Epoch 12/15\n",
      "\u001b[1m467/467\u001b[0m \u001b[32m━━━━━━━━━━━━━━━━━━━━\u001b[0m\u001b[37m\u001b[0m \u001b[1m243s\u001b[0m 513ms/step - accuracy: 0.7922 - loss: 2.4153 - val_accuracy: 0.7362 - val_loss: 2.5627\n",
      "Epoch 13/15\n",
      "\u001b[1m467/467\u001b[0m \u001b[32m━━━━━━━━━━━━━━━━━━━━\u001b[0m\u001b[37m\u001b[0m \u001b[1m245s\u001b[0m 519ms/step - accuracy: 0.8073 - loss: 2.0908 - val_accuracy: 0.7526 - val_loss: 2.4141\n",
      "Epoch 14/15\n",
      "\u001b[1m467/467\u001b[0m \u001b[32m━━━━━━━━━━━━━━━━━━━━\u001b[0m\u001b[37m\u001b[0m \u001b[1m245s\u001b[0m 517ms/step - accuracy: 0.8006 - loss: 2.3683 - val_accuracy: 0.7486 - val_loss: 2.2300\n",
      "Epoch 15/15\n",
      "\u001b[1m467/467\u001b[0m \u001b[32m━━━━━━━━━━━━━━━━━━━━\u001b[0m\u001b[37m\u001b[0m \u001b[1m240s\u001b[0m 507ms/step - accuracy: 0.8284 - loss: 1.8809 - val_accuracy: 0.7494 - val_loss: 2.6237\n"
     ]
    }
   ],
   "source": [
    "# Train the model with more epochs\n",
    "history = model.fit(\n",
    "    train_data,\n",
    "    epochs=15,  # Increased epochs to give the model more time to learn\n",
    "    validation_data=val_data,\n",
    "    callbacks=[early_stopping, model_checkpoint]\n",
    ")"
   ]
  },
  {
   "cell_type": "code",
   "execution_count": 12,
   "id": "cd1c2443",
   "metadata": {
    "execution": {
     "iopub.execute_input": "2024-10-18T05:17:26.801808Z",
     "iopub.status.busy": "2024-10-18T05:17:26.801458Z",
     "iopub.status.idle": "2024-10-18T05:17:28.169723Z",
     "shell.execute_reply": "2024-10-18T05:17:28.168869Z"
    },
    "papermill": {
     "duration": 1.974149,
     "end_time": "2024-10-18T05:17:28.172445",
     "exception": false,
     "start_time": "2024-10-18T05:17:26.198296",
     "status": "completed"
    },
    "tags": []
   },
   "outputs": [],
   "source": [
    "# Save the trained model\n",
    "model.save('freshness_detection_model.h5')"
   ]
  },
  {
   "cell_type": "code",
   "execution_count": 13,
   "id": "61705c7f",
   "metadata": {
    "execution": {
     "iopub.execute_input": "2024-10-18T05:17:29.322722Z",
     "iopub.status.busy": "2024-10-18T05:17:29.322339Z",
     "iopub.status.idle": "2024-10-18T05:18:34.833242Z",
     "shell.execute_reply": "2024-10-18T05:18:34.832240Z"
    },
    "papermill": {
     "duration": 66.591389,
     "end_time": "2024-10-18T05:18:35.349021",
     "exception": false,
     "start_time": "2024-10-18T05:17:28.757632",
     "status": "completed"
    },
    "tags": []
   },
   "outputs": [
    {
     "name": "stdout",
     "output_type": "stream",
     "text": [
      "\u001b[1m117/117\u001b[0m \u001b[32m━━━━━━━━━━━━━━━━━━━━\u001b[0m\u001b[37m\u001b[0m \u001b[1m65s\u001b[0m 482ms/step\n"
     ]
    }
   ],
   "source": [
    "# Evaluate Model on Test Data (after training)\n",
    "test_data = val_data  # Assuming val_data also serves as test data in this example\n",
    "test_data.reset()\n",
    "y_true = test_data.classes\n",
    "y_pred = np.argmax(model.predict(test_data), axis=-1)"
   ]
  },
  {
   "cell_type": "code",
   "execution_count": 14,
   "id": "d200a5d7",
   "metadata": {
    "execution": {
     "iopub.execute_input": "2024-10-18T05:18:36.535346Z",
     "iopub.status.busy": "2024-10-18T05:18:36.534638Z",
     "iopub.status.idle": "2024-10-18T05:19:27.261099Z",
     "shell.execute_reply": "2024-10-18T05:19:27.260238Z"
    },
    "papermill": {
     "duration": 51.342098,
     "end_time": "2024-10-18T05:19:27.263002",
     "exception": false,
     "start_time": "2024-10-18T05:18:35.920904",
     "status": "completed"
    },
    "tags": []
   },
   "outputs": [
    {
     "name": "stdout",
     "output_type": "stream",
     "text": [
      "\u001b[1m117/117\u001b[0m \u001b[32m━━━━━━━━━━━━━━━━━━━━\u001b[0m\u001b[37m\u001b[0m \u001b[1m50s\u001b[0m 425ms/step - accuracy: 0.7440 - loss: 2.2207\n",
      "Test accuracy: 0.75\n"
     ]
    }
   ],
   "source": [
    "test_loss, test_accuracy = model.evaluate(test_data)\n",
    "print(f'Test accuracy: {test_accuracy:.2f}')"
   ]
  },
  {
   "cell_type": "code",
   "execution_count": 15,
   "id": "b380df1c",
   "metadata": {
    "execution": {
     "iopub.execute_input": "2024-10-18T05:19:28.464247Z",
     "iopub.status.busy": "2024-10-18T05:19:28.463846Z",
     "iopub.status.idle": "2024-10-18T05:19:28.471117Z",
     "shell.execute_reply": "2024-10-18T05:19:28.469997Z"
    },
    "papermill": {
     "duration": 0.629582,
     "end_time": "2024-10-18T05:19:28.473190",
     "exception": false,
     "start_time": "2024-10-18T05:19:27.843608",
     "status": "completed"
    },
    "tags": []
   },
   "outputs": [
    {
     "name": "stdout",
     "output_type": "stream",
     "text": [
      "Accuracy: 0.0460\n"
     ]
    }
   ],
   "source": [
    "# Print Test Accuracy\n",
    "test_accuracy = accuracy_score(y_true, y_pred)\n",
    "print(f\"Accuracy: {test_accuracy:.4f}\")"
   ]
  },
  {
   "cell_type": "code",
   "execution_count": 16,
   "id": "038bac28",
   "metadata": {
    "execution": {
     "iopub.execute_input": "2024-10-18T05:19:29.628327Z",
     "iopub.status.busy": "2024-10-18T05:19:29.627933Z",
     "iopub.status.idle": "2024-10-18T05:21:08.999124Z",
     "shell.execute_reply": "2024-10-18T05:21:08.998007Z"
    },
    "papermill": {
     "duration": 99.950531,
     "end_time": "2024-10-18T05:21:09.001179",
     "exception": false,
     "start_time": "2024-10-18T05:19:29.050648",
     "status": "completed"
    },
    "tags": []
   },
   "outputs": [
    {
     "name": "stdout",
     "output_type": "stream",
     "text": [
      "\u001b[1m 98/117\u001b[0m \u001b[32m━━━━━━━━━━━━━━━━\u001b[0m\u001b[37m━━━━\u001b[0m \u001b[1m7s\u001b[0m 419ms/step"
     ]
    },
    {
     "name": "stderr",
     "output_type": "stream",
     "text": [
      "/opt/conda/lib/python3.10/site-packages/PIL/Image.py:1056: UserWarning: Palette images with Transparency expressed in bytes should be converted to RGBA images\n",
      "  warnings.warn(\n"
     ]
    },
    {
     "name": "stdout",
     "output_type": "stream",
     "text": [
      "\u001b[1m117/117\u001b[0m \u001b[32m━━━━━━━━━━━━━━━━━━━━\u001b[0m\u001b[37m\u001b[0m \u001b[1m49s\u001b[0m 417ms/step\n",
      "\u001b[1m 17/117\u001b[0m \u001b[32m━━\u001b[0m\u001b[37m━━━━━━━━━━━━━━━━━━\u001b[0m \u001b[1m40s\u001b[0m 406ms/step"
     ]
    },
    {
     "name": "stderr",
     "output_type": "stream",
     "text": [
      "/opt/conda/lib/python3.10/site-packages/PIL/Image.py:1056: UserWarning: Palette images with Transparency expressed in bytes should be converted to RGBA images\n",
      "  warnings.warn(\n"
     ]
    },
    {
     "name": "stdout",
     "output_type": "stream",
     "text": [
      "\u001b[1m117/117\u001b[0m \u001b[32m━━━━━━━━━━━━━━━━━━━━\u001b[0m\u001b[37m\u001b[0m \u001b[1m49s\u001b[0m 418ms/step\n",
      "Precision: 0.0431\n",
      "Recall: 0.0460\n",
      "F1 Score: 0.0419\n",
      "ROC AUC: 0.4998\n",
      "Log Loss: 11.7907\n"
     ]
    }
   ],
   "source": [
    "# Calculate other Evaluation Metrics\n",
    "precision = precision_score(y_true, y_pred, average='weighted')\n",
    "recall = recall_score(y_true, y_pred, average='weighted')\n",
    "f1 = f1_score(y_true, y_pred, average='weighted')\n",
    "roc_auc = roc_auc_score(to_categorical(y_true), model.predict(test_data), multi_class='ovr')\n",
    "log_loss_value = log_loss(to_categorical(y_true), model.predict(test_data))\n",
    "\n",
    "\n",
    "\n",
    "print(f\"Precision: {precision:.4f}\")\n",
    "print(f\"Recall: {recall:.4f}\")\n",
    "print(f\"F1 Score: {f1:.4f}\")\n",
    "print(f\"ROC AUC: {roc_auc:.4f}\")\n",
    "print(f\"Log Loss: {log_loss_value:.4f}\")"
   ]
  },
  {
   "cell_type": "code",
   "execution_count": 17,
   "id": "925f53bb",
   "metadata": {
    "execution": {
     "iopub.execute_input": "2024-10-18T05:21:10.241981Z",
     "iopub.status.busy": "2024-10-18T05:21:10.241602Z",
     "iopub.status.idle": "2024-10-18T05:21:10.683714Z",
     "shell.execute_reply": "2024-10-18T05:21:10.682794Z"
    },
    "papermill": {
     "duration": 1.080358,
     "end_time": "2024-10-18T05:21:10.685711",
     "exception": false,
     "start_time": "2024-10-18T05:21:09.605353",
     "status": "completed"
    },
    "tags": []
   },
   "outputs": [
    {
     "data": {
      "image/png": "[encoded data removed]",
      "text/plain": [
       "<Figure size 1200x500 with 2 Axes>"
      ]
     },
     "metadata": {},
     "output_type": "display_data"
    }
   ],
   "source": [
    "\n",
    "# Plot Training and Validation Accuracy and Loss\n",
    "plt.figure(figsize=(12, 5))\n",
    "plt.subplot(1, 2, 1)\n",
    "plt.plot(history.history['accuracy'], label='Training Accuracy')\n",
    "plt.plot(history.history['val_accuracy'], label='Validation Accuracy')\n",
    "plt.title('Accuracy')\n",
    "plt.xlabel('Epochs')\n",
    "plt.ylabel('Accuracy')\n",
    "plt.legend()\n",
    "\n",
    "plt.subplot(1, 2, 2)\n",
    "plt.plot(history.history['loss'], label='Training Loss')\n",
    "plt.plot(history.history['val_loss'], label='Validation Loss')\n",
    "plt.title('Loss')\n",
    "plt.xlabel('Epochs')\n",
    "plt.ylabel('Loss')\n",
    "plt.legend()\n",
    "\n",
    "plt.show()"
   ]
  }
 ],
 "metadata": {
  "kaggle": {
   "accelerator": "gpu",
   "dataSources": [
    {
     "datasetId": 5896474,
     "sourceId": 9653094,
     "sourceType": "datasetVersion"
    }
   ],
   "dockerImageVersionId": 30787,
   "isGpuEnabled": true,
   "isInternetEnabled": true,
   "language": "python",
   "sourceType": "notebook"
  },
  "kernelspec": {
   "display_name": "Python 3",
   "language": "python",
   "name": "python3"
  },
  "language_info": {
   "codemirror_mode": {
    "name": "ipython",
    "version": 3
   },
   "file_extension": ".py",
   "mimetype": "text/x-python",
   "name": "python",
   "nbconvert_exporter": "python",
   "pygments_lexer": "ipython3",
   "version": "3.10.14"
  },
  "papermill": {
   "default_parameters": {},
   "duration": 4250.744745,
   "end_time": "2024-10-18T05:21:14.349792",
   "environment_variables": {},
   "exception": null,
   "input_path": "__notebook__.ipynb",
   "output_path": "__notebook__.ipynb",
   "parameters": {},
   "start_time": "2024-10-18T04:10:23.605047",
   "version": "2.6.0"
  }
 },
 "nbformat": 4,
 "nbformat_minor": 5
}
