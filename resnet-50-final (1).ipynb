{
 "cells": [
  {
   "cell_type": "code",
   "execution_count": 1,
   "id": "625136c7",
   "metadata": {
    "execution": {
     "iopub.execute_input": "2024-10-21T09:57:25.917730Z",
     "iopub.status.busy": "2024-10-21T09:57:25.917018Z",
     "iopub.status.idle": "2024-10-21T09:57:39.928736Z",
     "shell.execute_reply": "2024-10-21T09:57:39.927706Z"
    },
    "papermill": {
     "duration": 14.021205,
     "end_time": "2024-10-21T09:57:39.931142",
     "exception": false,
     "start_time": "2024-10-21T09:57:25.909937",
     "status": "completed"
    },
    "tags": []
   },
   "outputs": [],
   "source": [
    "import numpy as np\n",
    "import pandas as pd\n",
    "import matplotlib.pyplot as plt\n",
    "from sklearn.metrics import accuracy_score, precision_score, recall_score, f1_score, roc_auc_score, confusion_matrix, log_loss, classification_report\n",
    "from sklearn.model_selection import train_test_split\n",
    "from sklearn.preprocessing import LabelBinarizer\n",
    "from tensorflow.keras.applications import ResNet50\n",
    "from tensorflow.keras.layers import Dense, Flatten, Dropout, BatchNormalization\n",
    "from tensorflow.keras.models import Model\n",
    "from tensorflow.keras.optimizers import Adam\n",
    "from tensorflow.keras.utils import to_categorical\n",
    "from tensorflow.keras.preprocessing.image import ImageDataGenerator\n",
    "from tensorflow.keras.callbacks import EarlyStopping, ModelCheckpoint\n",
    "from tensorflow.keras.regularizers import l2\n"
   ]
  },
  {
   "cell_type": "code",
   "execution_count": 2,
   "id": "efd63800",
   "metadata": {
    "execution": {
     "iopub.execute_input": "2024-10-21T09:57:39.943400Z",
     "iopub.status.busy": "2024-10-21T09:57:39.942516Z",
     "iopub.status.idle": "2024-10-21T09:57:45.676013Z",
     "shell.execute_reply": "2024-10-21T09:57:45.675243Z"
    },
    "papermill": {
     "duration": 5.741384,
     "end_time": "2024-10-21T09:57:45.677981",
     "exception": false,
     "start_time": "2024-10-21T09:57:39.936597",
     "status": "completed"
    },
    "tags": []
   },
   "outputs": [
    {
     "name": "stdout",
     "output_type": "stream",
     "text": [
      "Found 14927 images belonging to 26 classes.\n",
      "Found 3715 images belonging to 26 classes.\n"
     ]
    }
   ],
   "source": [
    "# Data Preprocessing and Augmentation\n",
    "train_datagen = ImageDataGenerator(\n",
    "    rescale=1./255,\n",
    "    rotation_range=40,\n",
    "    width_shift_range=0.2,\n",
    "    height_shift_range=0.2,\n",
    "    shear_range=0.2,\n",
    "    zoom_range=0.2,\n",
    "    horizontal_flip=True,\n",
    "    fill_mode='nearest',\n",
    "    validation_split=0.2\n",
    ")\n",
    "\n",
    "train_data = train_datagen.flow_from_directory(\n",
    "    '/kaggle/input/whole-proper-dataset-for-freshness-detection/FRESHNESSDATASET(PROPER)',\n",
    "    target_size=(224, 224),\n",
    "    batch_size=32,\n",
    "    class_mode='categorical',\n",
    "    subset='training'\n",
    ")\n",
    "\n",
    "val_data = train_datagen.flow_from_directory(\n",
    "    '/kaggle/input/whole-proper-dataset-for-freshness-detection/FRESHNESSDATASET(PROPER)',\n",
    "    target_size=(224, 224),\n",
    "    batch_size=32,\n",
    "    class_mode='categorical',\n",
    "    subset='validation'\n",
    ")"
   ]
  },
  {
   "cell_type": "code",
   "execution_count": 3,
   "id": "d9424c06",
   "metadata": {
    "execution": {
     "iopub.execute_input": "2024-10-21T09:57:45.690075Z",
     "iopub.status.busy": "2024-10-21T09:57:45.689783Z",
     "iopub.status.idle": "2024-10-21T09:57:52.497754Z",
     "shell.execute_reply": "2024-10-21T09:57:52.496936Z"
    },
    "papermill": {
     "duration": 6.816451,
     "end_time": "2024-10-21T09:57:52.500121",
     "exception": false,
     "start_time": "2024-10-21T09:57:45.683670",
     "status": "completed"
    },
    "tags": []
   },
   "outputs": [
    {
     "name": "stdout",
     "output_type": "stream",
     "text": [
      "Downloading data from https://storage.googleapis.com/tensorflow/keras-applications/resnet/resnet50_weights_tf_dim_ordering_tf_kernels_notop.h5\n",
      "\u001b[1m94765736/94765736\u001b[0m \u001b[32m━━━━━━━━━━━━━━━━━━━━\u001b[0m\u001b[37m\u001b[0m \u001b[1m4s\u001b[0m 0us/step\n"
     ]
    }
   ],
   "source": [
    "# Load and Customize ResNet50 Model\n",
    "base_model = ResNet50(weights='imagenet', include_top=False, input_shape=(224, 224, 3))\n",
    "x = Flatten()(base_model.output)\n",
    "x = Dense(128, activation='relu')(x)\n",
    "x = Dropout(0.5)(x)  # Add Dropout to prevent overfitting\n",
    "output = Dense(26, activation='softmax')(x)\n",
    "model = Model(inputs=base_model.input, outputs=output)\n",
    "\n",
    "model.compile(optimizer=Adam(), loss='categorical_crossentropy', metrics=['accuracy'])\n"
   ]
  },
  {
   "cell_type": "code",
   "execution_count": 4,
   "id": "f7f5a919",
   "metadata": {
    "execution": {
     "iopub.execute_input": "2024-10-21T09:57:52.523843Z",
     "iopub.status.busy": "2024-10-21T09:57:52.523205Z",
     "iopub.status.idle": "2024-10-21T09:57:53.653870Z",
     "shell.execute_reply": "2024-10-21T09:57:53.653007Z"
    },
    "papermill": {
     "duration": 1.144454,
     "end_time": "2024-10-21T09:57:53.656458",
     "exception": false,
     "start_time": "2024-10-21T09:57:52.512004",
     "status": "completed"
    },
    "tags": []
   },
   "outputs": [],
   "source": [
    "# Load ResNet50 Model with fewer frozen layers\n",
    "base_model = ResNet50(weights='imagenet', include_top=False, input_shape=(224, 224, 3))\n"
   ]
  },
  {
   "cell_type": "code",
   "execution_count": 5,
   "id": "e901b9af",
   "metadata": {
    "execution": {
     "iopub.execute_input": "2024-10-21T09:57:53.678623Z",
     "iopub.status.busy": "2024-10-21T09:57:53.678317Z",
     "iopub.status.idle": "2024-10-21T09:57:53.687147Z",
     "shell.execute_reply": "2024-10-21T09:57:53.686379Z"
    },
    "papermill": {
     "duration": 0.022107,
     "end_time": "2024-10-21T09:57:53.689275",
     "exception": false,
     "start_time": "2024-10-21T09:57:53.667168",
     "status": "completed"
    },
    "tags": []
   },
   "outputs": [],
   "source": [
    "for layer in model.layers[:150]:  # Freeze the first 150 layers, change according to your need\n",
    "    layer.trainable = False\n",
    "for layer in model.layers[150:]:\n",
    "    layer.trainable = True\n"
   ]
  },
  {
   "cell_type": "code",
   "execution_count": 6,
   "id": "c1de2825",
   "metadata": {
    "execution": {
     "iopub.execute_input": "2024-10-21T09:57:53.710600Z",
     "iopub.status.busy": "2024-10-21T09:57:53.710327Z",
     "iopub.status.idle": "2024-10-21T09:57:53.742423Z",
     "shell.execute_reply": "2024-10-21T09:57:53.741758Z"
    },
    "papermill": {
     "duration": 0.044859,
     "end_time": "2024-10-21T09:57:53.744303",
     "exception": false,
     "start_time": "2024-10-21T09:57:53.699444",
     "status": "completed"
    },
    "tags": []
   },
   "outputs": [],
   "source": [
    "# Add custom layers\n",
    "x = Flatten()(base_model.output)\n",
    "x = BatchNormalization()(x)  # Adding Batch Normalization\n",
    "x = Dense(256, activation='relu', kernel_regularizer=l2(0.01))(x)  # Added L2 regularization\n",
    "x = Dropout(0.5)(x)  # Dropout rate increased to 0.4 for better regularization\n",
    "output = Dense(26, activation='softmax')(x)\n"
   ]
  },
  {
   "cell_type": "code",
   "execution_count": 7,
   "id": "4a4d0486",
   "metadata": {
    "execution": {
     "iopub.execute_input": "2024-10-21T09:57:53.765629Z",
     "iopub.status.busy": "2024-10-21T09:57:53.765352Z",
     "iopub.status.idle": "2024-10-21T09:57:53.794265Z",
     "shell.execute_reply": "2024-10-21T09:57:53.793439Z"
    },
    "papermill": {
     "duration": 0.041612,
     "end_time": "2024-10-21T09:57:53.796151",
     "exception": false,
     "start_time": "2024-10-21T09:57:53.754539",
     "status": "completed"
    },
    "tags": []
   },
   "outputs": [],
   "source": [
    "# Build the final model\n",
    "model = Model(inputs=base_model.input, outputs=output)\n"
   ]
  },
  {
   "cell_type": "code",
   "execution_count": 8,
   "id": "502fb703",
   "metadata": {
    "execution": {
     "iopub.execute_input": "2024-10-21T09:57:53.817624Z",
     "iopub.status.busy": "2024-10-21T09:57:53.817328Z",
     "iopub.status.idle": "2024-10-21T09:57:53.825542Z",
     "shell.execute_reply": "2024-10-21T09:57:53.824886Z"
    },
    "papermill": {
     "duration": 0.021015,
     "end_time": "2024-10-21T09:57:53.827475",
     "exception": false,
     "start_time": "2024-10-21T09:57:53.806460",
     "status": "completed"
    },
    "tags": []
   },
   "outputs": [],
   "source": [
    "# Compile the model with an increased learning rate for faster learning\n",
    "model.compile(optimizer=Adam(learning_rate=1e-3), loss='categorical_crossentropy', metrics=['accuracy'])\n",
    "\n",
    "model_checkpoint = ModelCheckpoint('best_model_resnet50.keras', monitor='val_loss', save_best_only=True)\n"
   ]
  },
  {
   "cell_type": "code",
   "execution_count": 9,
   "id": "0ea31ea6",
   "metadata": {
    "execution": {
     "iopub.execute_input": "2024-10-21T09:57:53.848850Z",
     "iopub.status.busy": "2024-10-21T09:57:53.848531Z",
     "iopub.status.idle": "2024-10-21T09:57:53.852777Z",
     "shell.execute_reply": "2024-10-21T09:57:53.852046Z"
    },
    "papermill": {
     "duration": 0.016964,
     "end_time": "2024-10-21T09:57:53.854649",
     "exception": false,
     "start_time": "2024-10-21T09:57:53.837685",
     "status": "completed"
    },
    "tags": []
   },
   "outputs": [],
   "source": [
    "# EarlyStopping and ModelCheckpoint callbacks to prevent overfitting\n",
    "early_stopping = EarlyStopping(monitor='val_loss', patience=7, restore_best_weights=True)\n",
    "model_checkpoint = ModelCheckpoint('best_model_resnet50.keras', monitor='val_loss', save_best_only=True)\n"
   ]
  },
  {
   "cell_type": "code",
   "execution_count": 10,
   "id": "2670f841",
   "metadata": {
    "execution": {
     "iopub.execute_input": "2024-10-21T09:57:53.876190Z",
     "iopub.status.busy": "2024-10-21T09:57:53.875917Z",
     "iopub.status.idle": "2024-10-21T11:43:14.871941Z",
     "shell.execute_reply": "2024-10-21T11:43:14.870910Z"
    },
    "papermill": {
     "duration": 6321.659765,
     "end_time": "2024-10-21T11:43:15.524674",
     "exception": false,
     "start_time": "2024-10-21T09:57:53.864909",
     "status": "completed"
    },
    "tags": []
   },
   "outputs": [
    {
     "name": "stdout",
     "output_type": "stream",
     "text": [
      "Epoch 1/25\n"
     ]
    },
    {
     "name": "stderr",
     "output_type": "stream",
     "text": [
      "/opt/conda/lib/python3.10/site-packages/keras/src/trainers/data_adapters/py_dataset_adapter.py:121: UserWarning: Your `PyDataset` class should call `super().__init__(**kwargs)` in its constructor. `**kwargs` can include `workers`, `use_multiprocessing`, `max_queue_size`. Do not pass these arguments to `fit()`, as they will be ignored.\n",
      "  self._warn_if_super_not_called()\n",
      "WARNING: All log messages before absl::InitializeLog() is called are written to STDERR\n",
      "I0000 00:00:1729504710.840751      77 service.cc:145] XLA service 0x7f5534004cb0 initialized for platform CUDA (this does not guarantee that XLA will be used). Devices:\n",
      "I0000 00:00:1729504710.840820      77 service.cc:153]   StreamExecutor device (0): Tesla P100-PCIE-16GB, Compute Capability 6.0\n",
      "WARNING: All log messages before absl::InitializeLog() is called are written to STDERR\n",
      "I0000 00:00:1729504740.874318      77 asm_compiler.cc:369] ptxas warning : Registers are spilled to local memory in function 'loop_add_subtract_fusion_26', 16 bytes spill stores, 16 bytes spill loads\n",
      "\n",
      "I0000 00:00:1729504740.923205      77 device_compiler.h:188] Compiled cluster using XLA!  This line is logged at most once for the lifetime of the process.\n"
     ]
    },
    {
     "name": "stdout",
     "output_type": "stream",
     "text": [
      "\u001b[1m222/467\u001b[0m \u001b[32m━━━━━━━━━\u001b[0m\u001b[37m━━━━━━━━━━━\u001b[0m \u001b[1m2:30\u001b[0m 614ms/step - accuracy: 0.1468 - loss: 18.7818"
     ]
    },
    {
     "name": "stderr",
     "output_type": "stream",
     "text": [
      "/opt/conda/lib/python3.10/site-packages/PIL/Image.py:1056: UserWarning: Palette images with Transparency expressed in bytes should be converted to RGBA images\n",
      "  warnings.warn(\n"
     ]
    },
    {
     "name": "stdout",
     "output_type": "stream",
     "text": [
      "\u001b[1m467/467\u001b[0m \u001b[32m━━━━━━━━━━━━━━━━━━━━\u001b[0m\u001b[37m\u001b[0m \u001b[1m394s\u001b[0m 704ms/step - accuracy: 0.1836 - loss: 15.4210 - val_accuracy: 0.0318 - val_loss: 8.5896\n",
      "Epoch 2/25\n",
      "\u001b[1m467/467\u001b[0m \u001b[32m━━━━━━━━━━━━━━━━━━━━\u001b[0m\u001b[37m\u001b[0m \u001b[1m249s\u001b[0m 526ms/step - accuracy: 0.3643 - loss: 4.4941 - val_accuracy: 0.0320 - val_loss: 484.8008\n",
      "Epoch 3/25\n",
      "\u001b[1m467/467\u001b[0m \u001b[32m━━━━━━━━━━━━━━━━━━━━\u001b[0m\u001b[37m\u001b[0m \u001b[1m250s\u001b[0m 530ms/step - accuracy: 0.4114 - loss: 6.4576 - val_accuracy: 0.2156 - val_loss: 8.0786\n",
      "Epoch 4/25\n",
      "\u001b[1m467/467\u001b[0m \u001b[32m━━━━━━━━━━━━━━━━━━━━\u001b[0m\u001b[37m\u001b[0m \u001b[1m260s\u001b[0m 526ms/step - accuracy: 0.5758 - loss: 2.5381 - val_accuracy: 0.4444 - val_loss: 3.5306\n",
      "Epoch 5/25\n",
      "\u001b[1m467/467\u001b[0m \u001b[32m━━━━━━━━━━━━━━━━━━━━\u001b[0m\u001b[37m\u001b[0m \u001b[1m246s\u001b[0m 521ms/step - accuracy: 0.6317 - loss: 2.2738 - val_accuracy: 0.3087 - val_loss: 3.9571\n",
      "Epoch 6/25\n",
      "\u001b[1m467/467\u001b[0m \u001b[32m━━━━━━━━━━━━━━━━━━━━\u001b[0m\u001b[37m\u001b[0m \u001b[1m249s\u001b[0m 527ms/step - accuracy: 0.6485 - loss: 1.9362 - val_accuracy: 0.5690 - val_loss: 2.1299\n",
      "Epoch 7/25\n",
      "\u001b[1m467/467\u001b[0m \u001b[32m━━━━━━━━━━━━━━━━━━━━\u001b[0m\u001b[37m\u001b[0m \u001b[1m246s\u001b[0m 521ms/step - accuracy: 0.6646 - loss: 1.7726 - val_accuracy: 0.4226 - val_loss: 3.1698\n",
      "Epoch 8/25\n",
      "\u001b[1m467/467\u001b[0m \u001b[32m━━━━━━━━━━━━━━━━━━━━\u001b[0m\u001b[37m\u001b[0m \u001b[1m247s\u001b[0m 524ms/step - accuracy: 0.6616 - loss: 2.2818 - val_accuracy: 0.4172 - val_loss: 2.8535\n",
      "Epoch 9/25\n",
      "\u001b[1m467/467\u001b[0m \u001b[32m━━━━━━━━━━━━━━━━━━━━\u001b[0m\u001b[37m\u001b[0m \u001b[1m250s\u001b[0m 529ms/step - accuracy: 0.7277 - loss: 1.4368 - val_accuracy: 0.5480 - val_loss: 2.1088\n",
      "Epoch 10/25\n",
      "\u001b[1m467/467\u001b[0m \u001b[32m━━━━━━━━━━━━━━━━━━━━\u001b[0m\u001b[37m\u001b[0m \u001b[1m255s\u001b[0m 515ms/step - accuracy: 0.7253 - loss: 1.4765 - val_accuracy: 0.2786 - val_loss: 4.9311\n",
      "Epoch 11/25\n",
      "\u001b[1m467/467\u001b[0m \u001b[32m━━━━━━━━━━━━━━━━━━━━\u001b[0m\u001b[37m\u001b[0m \u001b[1m240s\u001b[0m 508ms/step - accuracy: 0.7351 - loss: 1.4636 - val_accuracy: 0.5341 - val_loss: 2.4378\n",
      "Epoch 12/25\n",
      "\u001b[1m467/467\u001b[0m \u001b[32m━━━━━━━━━━━━━━━━━━━━\u001b[0m\u001b[37m\u001b[0m \u001b[1m240s\u001b[0m 507ms/step - accuracy: 0.7393 - loss: 1.4024 - val_accuracy: 0.1572 - val_loss: 5.3797\n",
      "Epoch 13/25\n",
      "\u001b[1m467/467\u001b[0m \u001b[32m━━━━━━━━━━━━━━━━━━━━\u001b[0m\u001b[37m\u001b[0m \u001b[1m242s\u001b[0m 511ms/step - accuracy: 0.7467 - loss: 1.4526 - val_accuracy: 0.1812 - val_loss: 16.4213\n",
      "Epoch 14/25\n",
      "\u001b[1m467/467\u001b[0m \u001b[32m━━━━━━━━━━━━━━━━━━━━\u001b[0m\u001b[37m\u001b[0m \u001b[1m243s\u001b[0m 514ms/step - accuracy: 0.7114 - loss: 1.9148 - val_accuracy: 0.3031 - val_loss: 7.0211\n",
      "Epoch 15/25\n",
      "\u001b[1m467/467\u001b[0m \u001b[32m━━━━━━━━━━━━━━━━━━━━\u001b[0m\u001b[37m\u001b[0m \u001b[1m246s\u001b[0m 522ms/step - accuracy: 0.7542 - loss: 1.5344 - val_accuracy: 0.3585 - val_loss: 5.7329\n",
      "Epoch 16/25\n",
      "\u001b[1m467/467\u001b[0m \u001b[32m━━━━━━━━━━━━━━━━━━━━\u001b[0m\u001b[37m\u001b[0m \u001b[1m245s\u001b[0m 520ms/step - accuracy: 0.7271 - loss: 1.6570 - val_accuracy: 0.6288 - val_loss: 1.8475\n",
      "Epoch 17/25\n",
      "\u001b[1m467/467\u001b[0m \u001b[32m━━━━━━━━━━━━━━━━━━━━\u001b[0m\u001b[37m\u001b[0m \u001b[1m263s\u001b[0m 521ms/step - accuracy: 0.7697 - loss: 1.3304 - val_accuracy: 0.5505 - val_loss: 2.1766\n",
      "Epoch 18/25\n",
      "\u001b[1m467/467\u001b[0m \u001b[32m━━━━━━━━━━━━━━━━━━━━\u001b[0m\u001b[37m\u001b[0m \u001b[1m244s\u001b[0m 515ms/step - accuracy: 0.7855 - loss: 1.2996 - val_accuracy: 0.5596 - val_loss: 2.0622\n",
      "Epoch 19/25\n",
      "\u001b[1m467/467\u001b[0m \u001b[32m━━━━━━━━━━━━━━━━━━━━\u001b[0m\u001b[37m\u001b[0m \u001b[1m247s\u001b[0m 523ms/step - accuracy: 0.7904 - loss: 1.2335 - val_accuracy: 0.6686 - val_loss: 1.7437\n",
      "Epoch 20/25\n",
      "\u001b[1m467/467\u001b[0m \u001b[32m━━━━━━━━━━━━━━━━━━━━\u001b[0m\u001b[37m\u001b[0m \u001b[1m246s\u001b[0m 520ms/step - accuracy: 0.7928 - loss: 1.2250 - val_accuracy: 0.4651 - val_loss: 2.7244\n",
      "Epoch 21/25\n",
      "\u001b[1m467/467\u001b[0m \u001b[32m━━━━━━━━━━━━━━━━━━━━\u001b[0m\u001b[37m\u001b[0m \u001b[1m245s\u001b[0m 519ms/step - accuracy: 0.7782 - loss: 1.5883 - val_accuracy: 0.4953 - val_loss: 3.6814\n",
      "Epoch 22/25\n",
      "\u001b[1m467/467\u001b[0m \u001b[32m━━━━━━━━━━━━━━━━━━━━\u001b[0m\u001b[37m\u001b[0m \u001b[1m245s\u001b[0m 519ms/step - accuracy: 0.7471 - loss: 2.2100 - val_accuracy: 0.6980 - val_loss: 1.5469\n",
      "Epoch 23/25\n",
      "\u001b[1m467/467\u001b[0m \u001b[32m━━━━━━━━━━━━━━━━━━━━\u001b[0m\u001b[37m\u001b[0m \u001b[1m241s\u001b[0m 509ms/step - accuracy: 0.8128 - loss: 1.0449 - val_accuracy: 0.6694 - val_loss: 1.6340\n",
      "Epoch 24/25\n",
      "\u001b[1m467/467\u001b[0m \u001b[32m━━━━━━━━━━━━━━━━━━━━\u001b[0m\u001b[37m\u001b[0m \u001b[1m242s\u001b[0m 512ms/step - accuracy: 0.8048 - loss: 1.1029 - val_accuracy: 0.5631 - val_loss: 2.1226\n",
      "Epoch 25/25\n",
      "\u001b[1m467/467\u001b[0m \u001b[32m━━━━━━━━━━━━━━━━━━━━\u001b[0m\u001b[37m\u001b[0m \u001b[1m242s\u001b[0m 513ms/step - accuracy: 0.8155 - loss: 1.0191 - val_accuracy: 0.6746 - val_loss: 1.5808\n"
     ]
    }
   ],
   "source": [
    "# Train the model with more epochs\n",
    "history = model.fit(\n",
    "    train_data,\n",
    "    epochs=25,  # Increased epochs for better learning\n",
    "    validation_data=val_data,\n",
    "    callbacks=[early_stopping, model_checkpoint]\n",
    ")\n"
   ]
  },
  {
   "cell_type": "code",
   "execution_count": 11,
   "id": "48fd453e",
   "metadata": {
    "execution": {
     "iopub.execute_input": "2024-10-21T11:43:17.437933Z",
     "iopub.status.busy": "2024-10-21T11:43:17.437541Z",
     "iopub.status.idle": "2024-10-21T11:43:18.906892Z",
     "shell.execute_reply": "2024-10-21T11:43:18.906100Z"
    },
    "papermill": {
     "duration": 2.450655,
     "end_time": "2024-10-21T11:43:18.909252",
     "exception": false,
     "start_time": "2024-10-21T11:43:16.458597",
     "status": "completed"
    },
    "tags": []
   },
   "outputs": [],
   "source": [
    "# Save the trained model\n",
    "model.save('freshness_detection_model_resnet50.h5')\n"
   ]
  },
  {
   "cell_type": "code",
   "execution_count": 12,
   "id": "3ede40f0",
   "metadata": {
    "execution": {
     "iopub.execute_input": "2024-10-21T11:43:20.838695Z",
     "iopub.status.busy": "2024-10-21T11:43:20.838321Z",
     "iopub.status.idle": "2024-10-21T11:45:08.499308Z",
     "shell.execute_reply": "2024-10-21T11:45:08.498442Z"
    },
    "papermill": {
     "duration": 108.662035,
     "end_time": "2024-10-21T11:45:08.501162",
     "exception": false,
     "start_time": "2024-10-21T11:43:19.839127",
     "status": "completed"
    },
    "tags": []
   },
   "outputs": [
    {
     "name": "stdout",
     "output_type": "stream",
     "text": [
      "\u001b[1m117/117\u001b[0m \u001b[32m━━━━━━━━━━━━━━━━━━━━\u001b[0m\u001b[37m\u001b[0m \u001b[1m56s\u001b[0m 449ms/step\n",
      "\u001b[1m117/117\u001b[0m \u001b[32m━━━━━━━━━━━━━━━━━━━━\u001b[0m\u001b[37m\u001b[0m \u001b[1m50s\u001b[0m 421ms/step - accuracy: 0.6972 - loss: 1.5597\n",
      "Test accuracy: 0.70\n"
     ]
    }
   ],
   "source": [
    "# Evaluate Model on Test Data (after training)\n",
    "test_data = val_data  # Assuming val_data also serves as test data in this example\n",
    "test_data.reset()\n",
    "y_true = test_data.classes\n",
    "y_pred = np.argmax(model.predict(test_data), axis=-1)\n",
    "\n",
    "test_loss, test_accuracy = model.evaluate(test_data)\n",
    "print(f'Test accuracy: {test_accuracy:.2f}')\n"
   ]
  },
  {
   "cell_type": "code",
   "execution_count": 13,
   "id": "9a4f67d3",
   "metadata": {
    "execution": {
     "iopub.execute_input": "2024-10-21T11:45:10.447782Z",
     "iopub.status.busy": "2024-10-21T11:45:10.447377Z",
     "iopub.status.idle": "2024-10-21T11:45:10.454681Z",
     "shell.execute_reply": "2024-10-21T11:45:10.453605Z"
    },
    "papermill": {
     "duration": 1.005943,
     "end_time": "2024-10-21T11:45:10.456804",
     "exception": false,
     "start_time": "2024-10-21T11:45:09.450861",
     "status": "completed"
    },
    "tags": []
   },
   "outputs": [
    {
     "name": "stdout",
     "output_type": "stream",
     "text": [
      "Accuracy: 0.0452\n"
     ]
    }
   ],
   "source": [
    "# Print Test Accuracy\n",
    "test_accuracy = accuracy_score(y_true, y_pred)\n",
    "print(f\"Accuracy: {test_accuracy:.4f}\")\n"
   ]
  },
  {
   "cell_type": "code",
   "execution_count": 14,
   "id": "17cdc3b1",
   "metadata": {
    "execution": {
     "iopub.execute_input": "2024-10-21T11:45:12.438140Z",
     "iopub.status.busy": "2024-10-21T11:45:12.437481Z",
     "iopub.status.idle": "2024-10-21T11:46:54.053909Z",
     "shell.execute_reply": "2024-10-21T11:46:54.052756Z"
    },
    "papermill": {
     "duration": 102.596293,
     "end_time": "2024-10-21T11:46:54.056120",
     "exception": false,
     "start_time": "2024-10-21T11:45:11.459827",
     "status": "completed"
    },
    "tags": []
   },
   "outputs": [
    {
     "name": "stdout",
     "output_type": "stream",
     "text": [
      "\u001b[1m 46/117\u001b[0m \u001b[32m━━━━━━━\u001b[0m\u001b[37m━━━━━━━━━━━━━\u001b[0m \u001b[1m29s\u001b[0m 421ms/step"
     ]
    },
    {
     "name": "stderr",
     "output_type": "stream",
     "text": [
      "/opt/conda/lib/python3.10/site-packages/PIL/Image.py:1056: UserWarning: Palette images with Transparency expressed in bytes should be converted to RGBA images\n",
      "  warnings.warn(\n"
     ]
    },
    {
     "name": "stdout",
     "output_type": "stream",
     "text": [
      "\u001b[1m117/117\u001b[0m \u001b[32m━━━━━━━━━━━━━━━━━━━━\u001b[0m\u001b[37m\u001b[0m \u001b[1m50s\u001b[0m 422ms/step\n",
      "\u001b[1m 93/117\u001b[0m \u001b[32m━━━━━━━━━━━━━━━\u001b[0m\u001b[37m━━━━━\u001b[0m \u001b[1m10s\u001b[0m 429ms/step"
     ]
    },
    {
     "name": "stderr",
     "output_type": "stream",
     "text": [
      "/opt/conda/lib/python3.10/site-packages/PIL/Image.py:1056: UserWarning: Palette images with Transparency expressed in bytes should be converted to RGBA images\n",
      "  warnings.warn(\n"
     ]
    },
    {
     "name": "stdout",
     "output_type": "stream",
     "text": [
      "\u001b[1m117/117\u001b[0m \u001b[32m━━━━━━━━━━━━━━━━━━━━\u001b[0m\u001b[37m\u001b[0m \u001b[1m50s\u001b[0m 427ms/step\n",
      "Precision: 0.0484\n",
      "Recall: 0.0452\n",
      "F1 Score: 0.0450\n",
      "ROC AUC: 0.5015\n",
      "Log Loss: 9.3998\n"
     ]
    }
   ],
   "source": [
    "# Calculate other Evaluation Metrics\n",
    "precision = precision_score(y_true, y_pred, average='weighted')\n",
    "recall = recall_score(y_true, y_pred, average='weighted')\n",
    "f1 = f1_score(y_true, y_pred, average='weighted')\n",
    "roc_auc = roc_auc_score(to_categorical(y_true), model.predict(test_data), multi_class='ovr')\n",
    "log_loss_value = log_loss(to_categorical(y_true), model.predict(test_data))\n",
    "\n",
    "print(f\"Precision: {precision:.4f}\")\n",
    "print(f\"Recall: {recall:.4f}\")\n",
    "print(f\"F1 Score: {f1:.4f}\")\n",
    "print(f\"ROC AUC: {roc_auc:.4f}\")\n",
    "print(f\"Log Loss: {log_loss_value:.4f}\")\n"
   ]
  },
  {
   "cell_type": "code",
   "execution_count": 15,
   "id": "307889b8",
   "metadata": {
    "execution": {
     "iopub.execute_input": "2024-10-21T11:46:56.053624Z",
     "iopub.status.busy": "2024-10-21T11:46:56.052552Z",
     "iopub.status.idle": "2024-10-21T11:46:56.662527Z",
     "shell.execute_reply": "2024-10-21T11:46:56.661570Z"
    },
    "papermill": {
     "duration": 1.579731,
     "end_time": "2024-10-21T11:46:56.664643",
     "exception": false,
     "start_time": "2024-10-21T11:46:55.084912",
     "status": "completed"
    },
    "tags": []
   },
   "outputs": [
    {
     "data": {
      "text/plain": [
       "<matplotlib.legend.Legend at 0x7f511af7b700>"
      ]
     },
     "execution_count": 15,
     "metadata": {},
     "output_type": "execute_result"
    },
    {
     "data": {
      "image/png": "[encoded data removed]",
      "text/plain": [
       "<Figure size 1200x500 with 2 Axes>"
      ]
     },
     "metadata": {},
     "output_type": "display_data"
    }
   ],
   "source": [
    "# Plot Training and Validation Accuracy and Loss\n",
    "plt.figure(figsize=(12, 5))\n",
    "plt.subplot(1, 2, 1)\n",
    "plt.plot(history.history['accuracy'], label='Training Accuracy')\n",
    "plt.plot(history.history['val_accuracy'], label='Validation Accuracy')\n",
    "plt.title('Accuracy')\n",
    "plt.xlabel('Epochs')\n",
    "plt.ylabel('Accuracy')\n",
    "plt.legend()\n",
    "\n",
    "plt.subplot(1, 2, 2)\n",
    "plt.plot(history.history['loss'], label='Training Loss')\n",
    "plt.plot(history.history['val_loss'], label='Validation Loss')\n",
    "plt.title('Loss')\n",
    "plt.xlabel('Epochs')\n",
    "plt.ylabel('Loss')\n",
    "plt.legend()\n"
   ]
  },
  {
   "cell_type": "code",
   "execution_count": null,
   "id": "9f5794e9",
   "metadata": {
    "papermill": {
     "duration": 1.007861,
     "end_time": "2024-10-21T11:46:58.687679",
     "exception": false,
     "start_time": "2024-10-21T11:46:57.679818",
     "status": "completed"
    },
    "tags": []
   },
   "outputs": [],
   "source": []
  },
  {
   "cell_type": "code",
   "execution_count": null,
   "id": "a101ae6d",
   "metadata": {
    "papermill": {
     "duration": 0.973859,
     "end_time": "2024-10-21T11:47:00.684147",
     "exception": false,
     "start_time": "2024-10-21T11:46:59.710288",
     "status": "completed"
    },
    "tags": []
   },
   "outputs": [],
   "source": []
  },
  {
   "cell_type": "code",
   "execution_count": null,
   "id": "4139edda",
   "metadata": {
    "papermill": {
     "duration": 0.969,
     "end_time": "2024-10-21T11:47:02.695254",
     "exception": false,
     "start_time": "2024-10-21T11:47:01.726254",
     "status": "completed"
    },
    "tags": []
   },
   "outputs": [],
   "source": []
  }
 ],
 "metadata": {
  "kaggle": {
   "accelerator": "gpu",
   "dataSources": [
    {
     "datasetId": 5896474,
     "sourceId": 9653094,
     "sourceType": "datasetVersion"
    }
   ],
   "dockerImageVersionId": 30787,
   "isGpuEnabled": true,
   "isInternetEnabled": true,
   "language": "python",
   "sourceType": "notebook"
  },
  "kernelspec": {
   "display_name": "Python 3",
   "language": "python",
   "name": "python3"
  },
  "language_info": {
   "codemirror_mode": {
    "name": "ipython",
    "version": 3
   },
   "file_extension": ".py",
   "mimetype": "text/x-python",
   "name": "python",
   "nbconvert_exporter": "python",
   "pygments_lexer": "ipython3",
   "version": "3.10.14"
  },
  "papermill": {
   "default_parameters": {},
   "duration": 6583.838816,
   "end_time": "2024-10-21T11:47:07.061481",
   "environment_variables": {},
   "exception": null,
   "input_path": "__notebook__.ipynb",
   "output_path": "__notebook__.ipynb",
   "parameters": {},
   "start_time": "2024-10-21T09:57:23.222665",
   "version": "2.6.0"
  }
 },
 "nbformat": 4,
 "nbformat_minor": 5
}
