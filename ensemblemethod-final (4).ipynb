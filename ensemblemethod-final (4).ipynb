{
 "cells": [
  {
   "cell_type": "code",
   "execution_count": 1,
   "id": "d9b12be9",
   "metadata": {
    "execution": {
     "iopub.execute_input": "2024-10-22T01:48:00.321846Z",
     "iopub.status.busy": "2024-10-22T01:48:00.321486Z",
     "iopub.status.idle": "2024-10-22T01:48:14.293728Z",
     "shell.execute_reply": "2024-10-22T01:48:14.292850Z"
    },
    "papermill": {
     "duration": 13.980653,
     "end_time": "2024-10-22T01:48:14.296079",
     "exception": false,
     "start_time": "2024-10-22T01:48:00.315426",
     "status": "completed"
    },
    "tags": []
   },
   "outputs": [],
   "source": [
    "import os\n",
    "import numpy as np\n",
    "import tensorflow as tf\n",
    "from tensorflow.keras.preprocessing.image import ImageDataGenerator\n",
    "from tensorflow.keras.applications import DenseNet121, ResNet50, InceptionV3\n",
    "from tensorflow.keras.layers import Dense, GlobalAveragePooling2D\n",
    "from tensorflow.keras.models import Model\n",
    "from sklearn.decomposition import PCA\n",
    "from sklearn.model_selection import train_test_split\n",
    "from sklearn.metrics import accuracy_score"
   ]
  },
  {
   "cell_type": "code",
   "execution_count": 2,
   "id": "da99265c",
   "metadata": {
    "execution": {
     "iopub.execute_input": "2024-10-22T01:48:14.313523Z",
     "iopub.status.busy": "2024-10-22T01:48:14.312933Z",
     "iopub.status.idle": "2024-10-22T01:48:14.319249Z",
     "shell.execute_reply": "2024-10-22T01:48:14.318405Z"
    },
    "papermill": {
     "duration": 0.014443,
     "end_time": "2024-10-22T01:48:14.321219",
     "exception": false,
     "start_time": "2024-10-22T01:48:14.306776",
     "status": "completed"
    },
    "tags": []
   },
   "outputs": [],
   "source": [
    "def load_dataset(data_dir, img_size=(224, 224), batch_size=32):\n",
    "    datagen = ImageDataGenerator(rescale=1./255, validation_split=0.2)\n",
    "    train_gen = datagen.flow_from_directory(\n",
    "        data_dir, target_size=img_size, batch_size=batch_size, subset='training', class_mode='categorical')\n",
    "    val_gen = datagen.flow_from_directory(\n",
    "        data_dir, target_size=img_size, batch_size=batch_size, subset='validation', class_mode='categorical')\n",
    "    return train_gen, val_gen"
   ]
  },
  {
   "cell_type": "code",
   "execution_count": 3,
   "id": "d7b092ba",
   "metadata": {
    "execution": {
     "iopub.execute_input": "2024-10-22T01:48:14.329924Z",
     "iopub.status.busy": "2024-10-22T01:48:14.329635Z",
     "iopub.status.idle": "2024-10-22T01:48:14.333871Z",
     "shell.execute_reply": "2024-10-22T01:48:14.333142Z"
    },
    "papermill": {
     "duration": 0.010672,
     "end_time": "2024-10-22T01:48:14.335755",
     "exception": false,
     "start_time": "2024-10-22T01:48:14.325083",
     "status": "completed"
    },
    "tags": []
   },
   "outputs": [],
   "source": [
    "def apply_pca(X_train, n_components=100):\n",
    "    pca = PCA(n_components=n_components)\n",
    "    X_train_pca = pca.fit_transform(X_train)\n",
    "    return X_train_pca, pca"
   ]
  },
  {
   "cell_type": "code",
   "execution_count": 4,
   "id": "eb6499d4",
   "metadata": {
    "execution": {
     "iopub.execute_input": "2024-10-22T01:48:14.344628Z",
     "iopub.status.busy": "2024-10-22T01:48:14.344321Z",
     "iopub.status.idle": "2024-10-22T01:48:14.351215Z",
     "shell.execute_reply": "2024-10-22T01:48:14.350191Z"
    },
    "papermill": {
     "duration": 0.014001,
     "end_time": "2024-10-22T01:48:14.353591",
     "exception": false,
     "start_time": "2024-10-22T01:48:14.339590",
     "status": "completed"
    },
    "tags": []
   },
   "outputs": [],
   "source": [
    "def create_model(base_model, n_classes):\n",
    "    x = base_model.output\n",
    "    x = GlobalAveragePooling2D()(x)\n",
    "    x = Dense(1024, activation='relu')(x)\n",
    "    predictions = Dense(n_classes, activation='softmax')(x)\n",
    "    model = Model(inputs=base_model.input, outputs=predictions)\n",
    "    return model\n",
    "\n",
    "def load_models(n_classes):\n",
    "    googlenet_base = InceptionV3(weights='imagenet', include_top=False)\n",
    "    densenet_base = DenseNet121(weights='imagenet', include_top=False)\n",
    "    resnet_base = ResNet50(weights='imagenet', include_top=False)\n",
    "\n",
    "    googlenet = create_model(googlenet_base, n_classes)\n",
    "    densenet = create_model(densenet_base, n_classes)\n",
    "    resnet = create_model(resnet_base, n_classes)\n",
    "\n",
    "    return googlenet, densenet, resnet"
   ]
  },
  {
   "cell_type": "code",
   "execution_count": 5,
   "id": "37cc4711",
   "metadata": {
    "execution": {
     "iopub.execute_input": "2024-10-22T01:48:14.363766Z",
     "iopub.status.busy": "2024-10-22T01:48:14.363395Z",
     "iopub.status.idle": "2024-10-22T01:48:14.368339Z",
     "shell.execute_reply": "2024-10-22T01:48:14.367528Z"
    },
    "papermill": {
     "duration": 0.012586,
     "end_time": "2024-10-22T01:48:14.370664",
     "exception": false,
     "start_time": "2024-10-22T01:48:14.358078",
     "status": "completed"
    },
    "tags": []
   },
   "outputs": [],
   "source": [
    "def train_model(model, train_gen, val_gen, epochs=15):\n",
    "    model.compile(optimizer='adam', loss='categorical_crossentropy', metrics=['accuracy'])\n",
    "    model.fit(train_gen, validation_data=val_gen, epochs=epochs)\n",
    "    return model"
   ]
  },
  {
   "cell_type": "code",
   "execution_count": 6,
   "id": "6b6a74ef",
   "metadata": {
    "execution": {
     "iopub.execute_input": "2024-10-22T01:48:14.379882Z",
     "iopub.status.busy": "2024-10-22T01:48:14.379601Z",
     "iopub.status.idle": "2024-10-22T01:48:14.384311Z",
     "shell.execute_reply": "2024-10-22T01:48:14.383435Z"
    },
    "papermill": {
     "duration": 0.011194,
     "end_time": "2024-10-22T01:48:14.386195",
     "exception": false,
     "start_time": "2024-10-22T01:48:14.375001",
     "status": "completed"
    },
    "tags": []
   },
   "outputs": [],
   "source": [
    "def ensemble_predict(models, X_test):\n",
    "    predictions = [model.predict(X_test) for model in models]\n",
    "    avg_predictions = np.mean(predictions, axis=0)\n",
    "    final_predictions = np.argmax(avg_predictions, axis=1)\n",
    "    return final_predictions"
   ]
  },
  {
   "cell_type": "code",
   "execution_count": 7,
   "id": "2019e3dd",
   "metadata": {
    "execution": {
     "iopub.execute_input": "2024-10-22T01:48:14.395967Z",
     "iopub.status.busy": "2024-10-22T01:48:14.395682Z",
     "iopub.status.idle": "2024-10-22T01:48:14.399905Z",
     "shell.execute_reply": "2024-10-22T01:48:14.399050Z"
    },
    "papermill": {
     "duration": 0.011929,
     "end_time": "2024-10-22T01:48:14.401943",
     "exception": false,
     "start_time": "2024-10-22T01:48:14.390014",
     "status": "completed"
    },
    "tags": []
   },
   "outputs": [],
   "source": [
    "def save_models(models, model_names):\n",
    "    for model, name in zip(models, model_names):\n",
    "        model.save(f'{name}.h5')"
   ]
  },
  {
   "cell_type": "code",
   "execution_count": 8,
   "id": "d4a4d500",
   "metadata": {
    "execution": {
     "iopub.execute_input": "2024-10-22T01:48:14.411064Z",
     "iopub.status.busy": "2024-10-22T01:48:14.410249Z",
     "iopub.status.idle": "2024-10-22T03:06:20.716106Z",
     "shell.execute_reply": "2024-10-22T03:06:20.715263Z"
    },
    "papermill": {
     "duration": 4686.312254,
     "end_time": "2024-10-22T03:06:20.717996",
     "exception": false,
     "start_time": "2024-10-22T01:48:14.405742",
     "status": "completed"
    },
    "tags": []
   },
   "outputs": [
    {
     "name": "stdout",
     "output_type": "stream",
     "text": [
      "Found 14927 images belonging to 26 classes.\n",
      "Found 3715 images belonging to 26 classes.\n",
      "Downloading data from https://storage.googleapis.com/tensorflow/keras-applications/inception_v3/inception_v3_weights_tf_dim_ordering_tf_kernels_notop.h5\n",
      "\u001b[1m87910968/87910968\u001b[0m \u001b[32m━━━━━━━━━━━━━━━━━━━━\u001b[0m\u001b[37m\u001b[0m \u001b[1m0s\u001b[0m 0us/step\n",
      "Downloading data from https://storage.googleapis.com/tensorflow/keras-applications/densenet/densenet121_weights_tf_dim_ordering_tf_kernels_notop.h5\n",
      "\u001b[1m29084464/29084464\u001b[0m \u001b[32m━━━━━━━━━━━━━━━━━━━━\u001b[0m\u001b[37m\u001b[0m \u001b[1m0s\u001b[0m 0us/step\n",
      "Downloading data from https://storage.googleapis.com/tensorflow/keras-applications/resnet/resnet50_weights_tf_dim_ordering_tf_kernels_notop.h5\n",
      "\u001b[1m94765736/94765736\u001b[0m \u001b[32m━━━━━━━━━━━━━━━━━━━━\u001b[0m\u001b[37m\u001b[0m \u001b[1m0s\u001b[0m 0us/step\n",
      "Epoch 1/15\n"
     ]
    },
    {
     "name": "stderr",
     "output_type": "stream",
     "text": [
      "/opt/conda/lib/python3.10/site-packages/keras/src/trainers/data_adapters/py_dataset_adapter.py:121: UserWarning: Your `PyDataset` class should call `super().__init__(**kwargs)` in its constructor. `**kwargs` can include `workers`, `use_multiprocessing`, `max_queue_size`. Do not pass these arguments to `fit()`, as they will be ignored.\n",
      "  self._warn_if_super_not_called()\n",
      "WARNING: All log messages before absl::InitializeLog() is called are written to STDERR\n",
      "I0000 00:00:1729561746.301579      77 service.cc:145] XLA service 0x7d76dc004af0 initialized for platform CUDA (this does not guarantee that XLA will be used). Devices:\n",
      "I0000 00:00:1729561746.301631      77 service.cc:153]   StreamExecutor device (0): Tesla P100-PCIE-16GB, Compute Capability 6.0\n"
     ]
    },
    {
     "name": "stdout",
     "output_type": "stream",
     "text": [
      "\u001b[1m  1/467\u001b[0m \u001b[37m━━━━━━━━━━━━━━━━━━━━\u001b[0m \u001b[1m9:14:26\u001b[0m 71s/step - accuracy: 0.0312 - loss: 3.4448"
     ]
    },
    {
     "name": "stderr",
     "output_type": "stream",
     "text": [
      "I0000 00:00:1729561780.619554      77 device_compiler.h:188] Compiled cluster using XLA!  This line is logged at most once for the lifetime of the process.\n"
     ]
    },
    {
     "name": "stdout",
     "output_type": "stream",
     "text": [
      "\u001b[1m111/467\u001b[0m \u001b[32m━━━━\u001b[0m\u001b[37m━━━━━━━━━━━━━━━━\u001b[0m \u001b[1m2:53\u001b[0m 488ms/step - accuracy: 0.3955 - loss: 2.0923"
     ]
    },
    {
     "name": "stderr",
     "output_type": "stream",
     "text": [
      "/opt/conda/lib/python3.10/site-packages/PIL/Image.py:1056: UserWarning: Palette images with Transparency expressed in bytes should be converted to RGBA images\n",
      "  warnings.warn(\n"
     ]
    },
    {
     "name": "stdout",
     "output_type": "stream",
     "text": [
      "\u001b[1m467/467\u001b[0m \u001b[32m━━━━━━━━━━━━━━━━━━━━\u001b[0m\u001b[37m\u001b[0m \u001b[1m249s\u001b[0m 382ms/step - accuracy: 0.5453 - loss: 1.4435 - val_accuracy: 0.2398 - val_loss: 3.8621\n",
      "Epoch 2/15\n",
      "\u001b[1m467/467\u001b[0m \u001b[32m━━━━━━━━━━━━━━━━━━━━\u001b[0m\u001b[37m\u001b[0m \u001b[1m130s\u001b[0m 175ms/step - accuracy: 0.7693 - loss: 0.6335 - val_accuracy: 0.5728 - val_loss: 1.6158\n",
      "Epoch 3/15\n",
      "\u001b[1m467/467\u001b[0m \u001b[32m━━━━━━━━━━━━━━━━━━━━\u001b[0m\u001b[37m\u001b[0m \u001b[1m81s\u001b[0m 172ms/step - accuracy: 0.8341 - loss: 0.4659 - val_accuracy: 0.6587 - val_loss: 1.1823\n",
      "Epoch 4/15\n",
      "\u001b[1m467/467\u001b[0m \u001b[32m━━━━━━━━━━━━━━━━━━━━\u001b[0m\u001b[37m\u001b[0m \u001b[1m82s\u001b[0m 173ms/step - accuracy: 0.8447 - loss: 0.4191 - val_accuracy: 0.6721 - val_loss: 1.1135\n",
      "Epoch 5/15\n",
      "\u001b[1m467/467\u001b[0m \u001b[32m━━━━━━━━━━━━━━━━━━━━\u001b[0m\u001b[37m\u001b[0m \u001b[1m82s\u001b[0m 174ms/step - accuracy: 0.8606 - loss: 0.3667 - val_accuracy: 0.7052 - val_loss: 1.1629\n",
      "Epoch 6/15\n",
      "\u001b[1m467/467\u001b[0m \u001b[32m━━━━━━━━━━━━━━━━━━━━\u001b[0m\u001b[37m\u001b[0m \u001b[1m82s\u001b[0m 173ms/step - accuracy: 0.8815 - loss: 0.3220 - val_accuracy: 0.6778 - val_loss: 1.1952\n",
      "Epoch 7/15\n",
      "\u001b[1m467/467\u001b[0m \u001b[32m━━━━━━━━━━━━━━━━━━━━\u001b[0m\u001b[37m\u001b[0m \u001b[1m82s\u001b[0m 174ms/step - accuracy: 0.8923 - loss: 0.2978 - val_accuracy: 0.5550 - val_loss: 2.2796\n",
      "Epoch 8/15\n",
      "\u001b[1m467/467\u001b[0m \u001b[32m━━━━━━━━━━━━━━━━━━━━\u001b[0m\u001b[37m\u001b[0m \u001b[1m82s\u001b[0m 173ms/step - accuracy: 0.9065 - loss: 0.2520 - val_accuracy: 0.7389 - val_loss: 0.9649\n",
      "Epoch 9/15\n",
      "\u001b[1m467/467\u001b[0m \u001b[32m━━━━━━━━━━━━━━━━━━━━\u001b[0m\u001b[37m\u001b[0m \u001b[1m82s\u001b[0m 172ms/step - accuracy: 0.9158 - loss: 0.2380 - val_accuracy: 0.7381 - val_loss: 0.9143\n",
      "Epoch 10/15\n",
      "\u001b[1m467/467\u001b[0m \u001b[32m━━━━━━━━━━━━━━━━━━━━\u001b[0m\u001b[37m\u001b[0m \u001b[1m82s\u001b[0m 174ms/step - accuracy: 0.9180 - loss: 0.2167 - val_accuracy: 0.7201 - val_loss: 1.1465\n",
      "Epoch 11/15\n",
      "\u001b[1m467/467\u001b[0m \u001b[32m━━━━━━━━━━━━━━━━━━━━\u001b[0m\u001b[37m\u001b[0m \u001b[1m82s\u001b[0m 174ms/step - accuracy: 0.9304 - loss: 0.1975 - val_accuracy: 0.7128 - val_loss: 1.3712\n",
      "Epoch 12/15\n",
      "\u001b[1m467/467\u001b[0m \u001b[32m━━━━━━━━━━━━━━━━━━━━\u001b[0m\u001b[37m\u001b[0m \u001b[1m81s\u001b[0m 172ms/step - accuracy: 0.9378 - loss: 0.1734 - val_accuracy: 0.6732 - val_loss: 1.2743\n",
      "Epoch 13/15\n",
      "\u001b[1m467/467\u001b[0m \u001b[32m━━━━━━━━━━━━━━━━━━━━\u001b[0m\u001b[37m\u001b[0m \u001b[1m82s\u001b[0m 173ms/step - accuracy: 0.9463 - loss: 0.1510 - val_accuracy: 0.7389 - val_loss: 0.9941\n",
      "Epoch 14/15\n",
      "\u001b[1m467/467\u001b[0m \u001b[32m━━━━━━━━━━━━━━━━━━━━\u001b[0m\u001b[37m\u001b[0m \u001b[1m81s\u001b[0m 172ms/step - accuracy: 0.9488 - loss: 0.1474 - val_accuracy: 0.7050 - val_loss: 1.5402\n",
      "Epoch 15/15\n",
      "\u001b[1m467/467\u001b[0m \u001b[32m━━━━━━━━━━━━━━━━━━━━\u001b[0m\u001b[37m\u001b[0m \u001b[1m82s\u001b[0m 174ms/step - accuracy: 0.9586 - loss: 0.1186 - val_accuracy: 0.7941 - val_loss: 0.7815\n",
      "Epoch 1/15\n",
      "\u001b[1m467/467\u001b[0m \u001b[32m━━━━━━━━━━━━━━━━━━━━\u001b[0m\u001b[37m\u001b[0m \u001b[1m334s\u001b[0m 415ms/step - accuracy: 0.6252 - loss: 1.1854 - val_accuracy: 0.4799 - val_loss: 2.3007\n",
      "Epoch 2/15\n",
      "\u001b[1m467/467\u001b[0m \u001b[32m━━━━━━━━━━━━━━━━━━━━\u001b[0m\u001b[37m\u001b[0m \u001b[1m103s\u001b[0m 218ms/step - accuracy: 0.8154 - loss: 0.5153 - val_accuracy: 0.7650 - val_loss: 0.6946\n",
      "Epoch 3/15\n",
      "\u001b[1m467/467\u001b[0m \u001b[32m━━━━━━━━━━━━━━━━━━━━\u001b[0m\u001b[37m\u001b[0m \u001b[1m102s\u001b[0m 217ms/step - accuracy: 0.8537 - loss: 0.3943 - val_accuracy: 0.6081 - val_loss: 1.3544\n",
      "Epoch 4/15\n",
      "\u001b[1m467/467\u001b[0m \u001b[32m━━━━━━━━━━━━━━━━━━━━\u001b[0m\u001b[37m\u001b[0m \u001b[1m103s\u001b[0m 217ms/step - accuracy: 0.8566 - loss: 0.3788 - val_accuracy: 0.6891 - val_loss: 1.1725\n",
      "Epoch 5/15\n",
      "\u001b[1m467/467\u001b[0m \u001b[32m━━━━━━━━━━━━━━━━━━━━\u001b[0m\u001b[37m\u001b[0m \u001b[1m102s\u001b[0m 216ms/step - accuracy: 0.8776 - loss: 0.3274 - val_accuracy: 0.7163 - val_loss: 0.8295\n",
      "Epoch 6/15\n",
      "\u001b[1m467/467\u001b[0m \u001b[32m━━━━━━━━━━━━━━━━━━━━\u001b[0m\u001b[37m\u001b[0m \u001b[1m102s\u001b[0m 217ms/step - accuracy: 0.8880 - loss: 0.2885 - val_accuracy: 0.7583 - val_loss: 0.9422\n",
      "Epoch 7/15\n",
      "\u001b[1m467/467\u001b[0m \u001b[32m━━━━━━━━━━━━━━━━━━━━\u001b[0m\u001b[37m\u001b[0m \u001b[1m102s\u001b[0m 216ms/step - accuracy: 0.8982 - loss: 0.2646 - val_accuracy: 0.7731 - val_loss: 0.9225\n",
      "Epoch 8/15\n",
      "\u001b[1m467/467\u001b[0m \u001b[32m━━━━━━━━━━━━━━━━━━━━\u001b[0m\u001b[37m\u001b[0m \u001b[1m102s\u001b[0m 216ms/step - accuracy: 0.9039 - loss: 0.2487 - val_accuracy: 0.7174 - val_loss: 1.1528\n",
      "Epoch 9/15\n",
      "\u001b[1m467/467\u001b[0m \u001b[32m━━━━━━━━━━━━━━━━━━━━\u001b[0m\u001b[37m\u001b[0m \u001b[1m102s\u001b[0m 218ms/step - accuracy: 0.9157 - loss: 0.2270 - val_accuracy: 0.6993 - val_loss: 1.3858\n",
      "Epoch 10/15\n",
      "\u001b[1m467/467\u001b[0m \u001b[32m━━━━━━━━━━━━━━━━━━━━\u001b[0m\u001b[37m\u001b[0m \u001b[1m102s\u001b[0m 217ms/step - accuracy: 0.9099 - loss: 0.2541 - val_accuracy: 0.7502 - val_loss: 1.0535\n",
      "Epoch 11/15\n",
      "\u001b[1m467/467\u001b[0m \u001b[32m━━━━━━━━━━━━━━━━━━━━\u001b[0m\u001b[37m\u001b[0m \u001b[1m102s\u001b[0m 216ms/step - accuracy: 0.9363 - loss: 0.1775 - val_accuracy: 0.7782 - val_loss: 0.8689\n",
      "Epoch 12/15\n",
      "\u001b[1m467/467\u001b[0m \u001b[32m━━━━━━━━━━━━━━━━━━━━\u001b[0m\u001b[37m\u001b[0m \u001b[1m102s\u001b[0m 216ms/step - accuracy: 0.9285 - loss: 0.1914 - val_accuracy: 0.7435 - val_loss: 0.8446\n",
      "Epoch 13/15\n",
      "\u001b[1m467/467\u001b[0m \u001b[32m━━━━━━━━━━━━━━━━━━━━\u001b[0m\u001b[37m\u001b[0m \u001b[1m102s\u001b[0m 217ms/step - accuracy: 0.9264 - loss: 0.1919 - val_accuracy: 0.7841 - val_loss: 1.1208\n",
      "Epoch 14/15\n",
      "\u001b[1m467/467\u001b[0m \u001b[32m━━━━━━━━━━━━━━━━━━━━\u001b[0m\u001b[37m\u001b[0m \u001b[1m102s\u001b[0m 217ms/step - accuracy: 0.9533 - loss: 0.1304 - val_accuracy: 0.7297 - val_loss: 1.3488\n",
      "Epoch 15/15\n",
      "\u001b[1m467/467\u001b[0m \u001b[32m━━━━━━━━━━━━━━━━━━━━\u001b[0m\u001b[37m\u001b[0m \u001b[1m102s\u001b[0m 216ms/step - accuracy: 0.9317 - loss: 0.1879 - val_accuracy: 0.7335 - val_loss: 1.4718\n",
      "Epoch 1/15\n"
     ]
    },
    {
     "name": "stderr",
     "output_type": "stream",
     "text": [
      "WARNING: All log messages before absl::InitializeLog() is called are written to STDERR\n",
      "I0000 00:00:1729564968.946959      77 asm_compiler.cc:369] ptxas warning : Registers are spilled to local memory in function 'loop_add_subtract_fusion_24', 60 bytes spill stores, 60 bytes spill loads\n",
      "\n"
     ]
    },
    {
     "name": "stdout",
     "output_type": "stream",
     "text": [
      "\u001b[1m467/467\u001b[0m \u001b[32m━━━━━━━━━━━━━━━━━━━━\u001b[0m\u001b[37m\u001b[0m \u001b[1m168s\u001b[0m 241ms/step - accuracy: 0.5451 - loss: 1.4811 - val_accuracy: 0.0328 - val_loss: 8.2027\n",
      "Epoch 2/15\n",
      "\u001b[1m467/467\u001b[0m \u001b[32m━━━━━━━━━━━━━━━━━━━━\u001b[0m\u001b[37m\u001b[0m \u001b[1m87s\u001b[0m 185ms/step - accuracy: 0.8103 - loss: 0.5163 - val_accuracy: 0.4156 - val_loss: 2.1525\n",
      "Epoch 3/15\n",
      "\u001b[1m467/467\u001b[0m \u001b[32m━━━━━━━━━━━━━━━━━━━━\u001b[0m\u001b[37m\u001b[0m \u001b[1m88s\u001b[0m 186ms/step - accuracy: 0.8491 - loss: 0.4017 - val_accuracy: 0.6945 - val_loss: 0.8757\n",
      "Epoch 4/15\n",
      "\u001b[1m467/467\u001b[0m \u001b[32m━━━━━━━━━━━━━━━━━━━━\u001b[0m\u001b[37m\u001b[0m \u001b[1m88s\u001b[0m 187ms/step - accuracy: 0.8795 - loss: 0.3036 - val_accuracy: 0.6471 - val_loss: 1.1718\n",
      "Epoch 5/15\n",
      "\u001b[1m467/467\u001b[0m \u001b[32m━━━━━━━━━━━━━━━━━━━━\u001b[0m\u001b[37m\u001b[0m \u001b[1m87s\u001b[0m 184ms/step - accuracy: 0.8976 - loss: 0.2710 - val_accuracy: 0.6124 - val_loss: 1.4868\n",
      "Epoch 6/15\n",
      "\u001b[1m467/467\u001b[0m \u001b[32m━━━━━━━━━━━━━━━━━━━━\u001b[0m\u001b[37m\u001b[0m \u001b[1m88s\u001b[0m 186ms/step - accuracy: 0.9074 - loss: 0.2334 - val_accuracy: 0.6584 - val_loss: 1.2560\n",
      "Epoch 7/15\n",
      "\u001b[1m467/467\u001b[0m \u001b[32m━━━━━━━━━━━━━━━━━━━━\u001b[0m\u001b[37m\u001b[0m \u001b[1m142s\u001b[0m 186ms/step - accuracy: 0.9228 - loss: 0.1989 - val_accuracy: 0.7419 - val_loss: 0.9820\n",
      "Epoch 8/15\n",
      "\u001b[1m467/467\u001b[0m \u001b[32m━━━━━━━━━━━━━━━━━━━━\u001b[0m\u001b[37m\u001b[0m \u001b[1m87s\u001b[0m 185ms/step - accuracy: 0.9445 - loss: 0.1484 - val_accuracy: 0.5244 - val_loss: 2.4227\n",
      "Epoch 9/15\n",
      "\u001b[1m467/467\u001b[0m \u001b[32m━━━━━━━━━━━━━━━━━━━━\u001b[0m\u001b[37m\u001b[0m \u001b[1m87s\u001b[0m 186ms/step - accuracy: 0.9488 - loss: 0.1428 - val_accuracy: 0.6380 - val_loss: 1.4955\n",
      "Epoch 10/15\n",
      "\u001b[1m467/467\u001b[0m \u001b[32m━━━━━━━━━━━━━━━━━━━━\u001b[0m\u001b[37m\u001b[0m \u001b[1m89s\u001b[0m 188ms/step - accuracy: 0.9515 - loss: 0.1409 - val_accuracy: 0.6522 - val_loss: 1.7610\n",
      "Epoch 11/15\n",
      "\u001b[1m467/467\u001b[0m \u001b[32m━━━━━━━━━━━━━━━━━━━━\u001b[0m\u001b[37m\u001b[0m \u001b[1m87s\u001b[0m 185ms/step - accuracy: 0.9626 - loss: 0.1084 - val_accuracy: 0.7502 - val_loss: 1.1427\n",
      "Epoch 12/15\n",
      "\u001b[1m467/467\u001b[0m \u001b[32m━━━━━━━━━━━━━━━━━━━━\u001b[0m\u001b[37m\u001b[0m \u001b[1m88s\u001b[0m 186ms/step - accuracy: 0.9665 - loss: 0.0966 - val_accuracy: 0.7540 - val_loss: 0.9507\n",
      "Epoch 13/15\n",
      "\u001b[1m467/467\u001b[0m \u001b[32m━━━━━━━━━━━━━━━━━━━━\u001b[0m\u001b[37m\u001b[0m \u001b[1m87s\u001b[0m 186ms/step - accuracy: 0.9682 - loss: 0.0940 - val_accuracy: 0.6869 - val_loss: 1.4252\n",
      "Epoch 14/15\n",
      "\u001b[1m467/467\u001b[0m \u001b[32m━━━━━━━━━━━━━━━━━━━━\u001b[0m\u001b[37m\u001b[0m \u001b[1m87s\u001b[0m 186ms/step - accuracy: 0.9797 - loss: 0.0594 - val_accuracy: 0.5236 - val_loss: 2.7372\n",
      "Epoch 15/15\n",
      "\u001b[1m467/467\u001b[0m \u001b[32m━━━━━━━━━━━━━━━━━━━━\u001b[0m\u001b[37m\u001b[0m \u001b[1m87s\u001b[0m 185ms/step - accuracy: 0.9757 - loss: 0.0743 - val_accuracy: 0.7066 - val_loss: 1.3349\n",
      "\u001b[1m1/1\u001b[0m \u001b[32m━━━━━━━━━━━━━━━━━━━━\u001b[0m\u001b[37m\u001b[0m \u001b[1m5s\u001b[0m 5s/step\n",
      "\u001b[1m1/1\u001b[0m \u001b[32m━━━━━━━━━━━━━━━━━━━━\u001b[0m\u001b[37m\u001b[0m \u001b[1m8s\u001b[0m 8s/step\n",
      "\u001b[1m1/1\u001b[0m \u001b[32m━━━━━━━━━━━━━━━━━━━━\u001b[0m\u001b[37m\u001b[0m \u001b[1m3s\u001b[0m 3s/step\n",
      "Ensemble Test Accuracy: 84.38%\n"
     ]
    }
   ],
   "source": [
    "if __name__ == \"__main__\":\n",
    "    data_dir = '/kaggle/input/whole-proper-dataset-for-freshness-detection/FRESHNESSDATASET(PROPER)'\n",
    "\n",
    "    # Load and preprocess the dataset\n",
    "    train_gen, val_gen = load_dataset(data_dir)\n",
    "    n_classes = len(train_gen.class_indices)\n",
    "\n",
    "    # Load models\n",
    "    googlenet, densenet, resnet = load_models(n_classes)\n",
    "\n",
    "    # Train models\n",
    "    googlenet = train_model(googlenet, train_gen, val_gen)\n",
    "    densenet = train_model(densenet, train_gen, val_gen)\n",
    "    resnet = train_model(resnet, train_gen, val_gen)\n",
    "    \n",
    "    # Save models\n",
    "    save_models([googlenet, densenet, resnet], ['googlenet', 'densenet', 'resnet'])\n",
    "\n",
    "    # Test accuracy using ensemble\n",
    "\n",
    "    X_test, y_test = next(val_gen)  # Correct way to fetch the next batch from DirectoryIterator\n",
    "    y_pred = ensemble_predict([googlenet, densenet, resnet], X_test)\n",
    "    accuracy = accuracy_score(np.argmax(y_test, axis=1), y_pred)\n",
    "\n",
    "    print(f'Ensemble Test Accuracy: {accuracy * 100:.2f}%')"
   ]
  },
  {
   "cell_type": "code",
   "execution_count": 9,
   "id": "21d79041",
   "metadata": {
    "execution": {
     "iopub.execute_input": "2024-10-22T03:06:24.303222Z",
     "iopub.status.busy": "2024-10-22T03:06:24.302835Z",
     "iopub.status.idle": "2024-10-22T03:06:24.308100Z",
     "shell.execute_reply": "2024-10-22T03:06:24.307191Z"
    },
    "papermill": {
     "duration": 1.765167,
     "end_time": "2024-10-22T03:06:24.310095",
     "exception": false,
     "start_time": "2024-10-22T03:06:22.544928",
     "status": "completed"
    },
    "tags": []
   },
   "outputs": [],
   "source": [
    "import matplotlib.pyplot as plt\n",
    "from sklearn.metrics import accuracy_score, precision_score, recall_score, f1_score, roc_auc_score, log_loss\n",
    "import numpy as np\n"
   ]
  },
  {
   "cell_type": "code",
   "execution_count": 10,
   "id": "9abbe9bf",
   "metadata": {
    "execution": {
     "iopub.execute_input": "2024-10-22T03:06:27.803637Z",
     "iopub.status.busy": "2024-10-22T03:06:27.803228Z",
     "iopub.status.idle": "2024-10-22T03:06:27.812461Z",
     "shell.execute_reply": "2024-10-22T03:06:27.811587Z"
    },
    "papermill": {
     "duration": 1.752165,
     "end_time": "2024-10-22T03:06:27.814440",
     "exception": false,
     "start_time": "2024-10-22T03:06:26.062275",
     "status": "completed"
    },
    "tags": []
   },
   "outputs": [],
   "source": [
    "def evaluate_model(y_test, y_pred, num_classes):\n",
    "    # Flatten the one-hot encoded test labels\n",
    "    y_test_flat = np.argmax(y_test, axis=1)\n",
    "    \n",
    "    # Calculate metrics\n",
    "    accuracy = accuracy_score(y_test_flat, y_pred)\n",
    "    precision = precision_score(y_test_flat, y_pred, average='weighted', zero_division=0)\n",
    "    recall = recall_score(y_test_flat, y_pred, average='weighted', zero_division=0)\n",
    "    f1 = f1_score(y_test_flat, y_pred, average='weighted', zero_division=0)\n",
    "\n",
    "    # Ensure that y_pred is properly encoded as a one-hot matrix based on num_classes\n",
    "    y_pred_one_hot = np.eye(num_classes)[y_pred]\n",
    "    \n",
    "    # Truncate y_test and y_pred_one_hot to the number of unique classes in the predictions\n",
    "    truncated_y_test = y_test[:, :num_classes]  # Truncate y_test to match the number of classes in y_pred\n",
    "    truncated_y_pred_one_hot = y_pred_one_hot[:, :num_classes]  # Truncate predictions if needed\n",
    "\n",
    "    # Calculate ROC AUC and Log Loss if applicable\n",
    "    try:\n",
    "        roc_auc = roc_auc_score(truncated_y_test, truncated_y_pred_one_hot, multi_class='ovr', average='weighted')\n",
    "        log_loss_value = log_loss(truncated_y_test, truncated_y_pred_one_hot)\n",
    "    except ValueError:\n",
    "        roc_auc = np.nan\n",
    "        log_loss_value = np.nan\n",
    "        print(\"ROC AUC and Log Loss cannot be calculated due to shape mismatch.\")\n",
    "      # Print metrics\n",
    "    print(f\"Accuracy: {accuracy * 100:.2f}%\")\n",
    "    print(f\"Precision: {precision:.4f}\")\n",
    "    print(f\"Recall: {recall:.4f}\")\n",
    "    print(f\"F1 Score: {f1:.4f}\")\n",
    "    print(f\"ROC AUC: {roc_auc:.4f}\")\n",
    "    print(f\"Log Loss: {log_loss_value:.4f}\")\n",
    "    \n",
    "    return accuracy, precision, recall, f1, roc_auc, log_loss_value"
   ]
  },
  {
   "cell_type": "code",
   "execution_count": 11,
   "id": "d749007d",
   "metadata": {
    "execution": {
     "iopub.execute_input": "2024-10-22T03:06:31.287443Z",
     "iopub.status.busy": "2024-10-22T03:06:31.287040Z",
     "iopub.status.idle": "2024-10-22T03:06:31.919234Z",
     "shell.execute_reply": "2024-10-22T03:06:31.918284Z"
    },
    "papermill": {
     "duration": 2.314587,
     "end_time": "2024-10-22T03:06:31.921354",
     "exception": false,
     "start_time": "2024-10-22T03:06:29.606767",
     "status": "completed"
    },
    "tags": []
   },
   "outputs": [
    {
     "name": "stdout",
     "output_type": "stream",
     "text": [
      "\u001b[1m1/1\u001b[0m \u001b[32m━━━━━━━━━━━━━━━━━━━━\u001b[0m\u001b[37m\u001b[0m \u001b[1m0s\u001b[0m 33ms/step\n",
      "\u001b[1m1/1\u001b[0m \u001b[32m━━━━━━━━━━━━━━━━━━━━\u001b[0m\u001b[37m\u001b[0m \u001b[1m0s\u001b[0m 35ms/step\n",
      "\u001b[1m1/1\u001b[0m \u001b[32m━━━━━━━━━━━━━━━━━━━━\u001b[0m\u001b[37m\u001b[0m \u001b[1m0s\u001b[0m 31ms/step\n",
      "ROC AUC and Log Loss cannot be calculated due to shape mismatch.\n",
      "Accuracy: 78.12%\n",
      "Precision: 0.8073\n",
      "Recall: 0.7812\n",
      "F1 Score: 0.7812\n",
      "ROC AUC: nan\n",
      "Log Loss: nan\n"
     ]
    }
   ],
   "source": [
    "# Example call\n",
    "# Assuming X_test and y_test are the test data from the validation set\n",
    "X_test, y_test = next(val_gen)  # Get the test data from validation generator\n",
    "\n",
    "# Assuming y_pred is the predicted class indices from the ensemble model\n",
    "y_pred = ensemble_predict([googlenet, densenet, resnet], X_test)\n",
    "\n",
    "# Number of classes in the dataset\n",
    "num_classes = len(train_gen.class_indices)\n",
    "\n",
    "# Call the evaluate_model function\n",
    "accuracy, precision, recall, f1, roc_auc, log_loss_value = evaluate_model(y_test, y_pred, num_classes)\n",
    "\n",
    "# The function will print metrics and return the values"
   ]
  },
  {
   "cell_type": "code",
   "execution_count": null,
   "id": "0ceaa748",
   "metadata": {
    "papermill": {
     "duration": 1.768113,
     "end_time": "2024-10-22T03:06:35.436893",
     "exception": false,
     "start_time": "2024-10-22T03:06:33.668780",
     "status": "completed"
    },
    "tags": []
   },
   "outputs": [],
   "source": []
  }
 ],
 "metadata": {
  "kaggle": {
   "accelerator": "gpu",
   "dataSources": [
    {
     "datasetId": 5896474,
     "sourceId": 9653094,
     "sourceType": "datasetVersion"
    }
   ],
   "dockerImageVersionId": 30786,
   "isGpuEnabled": true,
   "isInternetEnabled": true,
   "language": "python",
   "sourceType": "notebook"
  },
  "kernelspec": {
   "display_name": "Python 3",
   "language": "python",
   "name": "python3"
  },
  "language_info": {
   "codemirror_mode": {
    "name": "ipython",
    "version": 3
   },
   "file_extension": ".py",
   "mimetype": "text/x-python",
   "name": "python",
   "nbconvert_exporter": "python",
   "pygments_lexer": "ipython3",
   "version": "3.10.14"
  },
  "papermill": {
   "default_parameters": {},
   "duration": 4723.580578,
   "end_time": "2024-10-22T03:06:41.143784",
   "environment_variables": {},
   "exception": null,
   "input_path": "__notebook__.ipynb",
   "output_path": "__notebook__.ipynb",
   "parameters": {},
   "start_time": "2024-10-22T01:47:57.563206",
   "version": "2.6.0"
  }
 },
 "nbformat": 4,
 "nbformat_minor": 5
}
