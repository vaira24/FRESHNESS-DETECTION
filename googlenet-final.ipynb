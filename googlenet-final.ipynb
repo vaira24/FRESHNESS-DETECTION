{
 "cells": [
  {
   "cell_type": "code",
   "execution_count": 1,
   "id": "9fb0628d",
   "metadata": {
    "execution": {
     "iopub.execute_input": "2024-10-18T08:56:19.192843Z",
     "iopub.status.busy": "2024-10-18T08:56:19.192399Z",
     "iopub.status.idle": "2024-10-18T08:56:33.755952Z",
     "shell.execute_reply": "2024-10-18T08:56:33.753164Z"
    },
    "papermill": {
     "duration": 14.574017,
     "end_time": "2024-10-18T08:56:33.758770",
     "exception": false,
     "start_time": "2024-10-18T08:56:19.184753",
     "status": "completed"
    },
    "tags": []
   },
   "outputs": [],
   "source": [
    "import numpy as np\n",
    "import pandas as pd\n",
    "import matplotlib.pyplot as plt\n",
    "from sklearn.metrics import accuracy_score, precision_score, recall_score, f1_score, roc_auc_score, confusion_matrix, log_loss, classification_report\n",
    "from sklearn.model_selection import train_test_split\n",
    "from sklearn.preprocessing import LabelBinarizer\n",
    "from tensorflow.keras.applications import InceptionV3\n",
    "from tensorflow.keras.layers import Dense, Flatten, Dropout, BatchNormalization\n",
    "from tensorflow.keras.models import Model\n",
    "from tensorflow.keras.optimizers import Adam\n",
    "from tensorflow.keras.utils import to_categorical\n",
    "from tensorflow.keras.preprocessing.image import ImageDataGenerator\n",
    "from tensorflow.keras.callbacks import EarlyStopping, ModelCheckpoint\n",
    "from tensorflow.keras.regularizers import l2"
   ]
  },
  {
   "cell_type": "code",
   "execution_count": 2,
   "id": "2572f58d",
   "metadata": {
    "execution": {
     "iopub.execute_input": "2024-10-18T08:56:33.773914Z",
     "iopub.status.busy": "2024-10-18T08:56:33.772784Z",
     "iopub.status.idle": "2024-10-18T08:56:40.770915Z",
     "shell.execute_reply": "2024-10-18T08:56:40.770075Z"
    },
    "papermill": {
     "duration": 7.007232,
     "end_time": "2024-10-18T08:56:40.773416",
     "exception": false,
     "start_time": "2024-10-18T08:56:33.766184",
     "status": "completed"
    },
    "tags": []
   },
   "outputs": [
    {
     "name": "stdout",
     "output_type": "stream",
     "text": [
      "Found 14927 images belonging to 26 classes.\n",
      "Found 3715 images belonging to 26 classes.\n"
     ]
    }
   ],
   "source": [
    "# Data Preprocessing and Augmentation\n",
    "train_datagen = ImageDataGenerator(\n",
    "    rescale=1./255,\n",
    "    rotation_range=40,\n",
    "    width_shift_range=0.2,\n",
    "    height_shift_range=0.2,\n",
    "    shear_range=0.2,\n",
    "    zoom_range=0.2,\n",
    "    horizontal_flip=True,\n",
    "    fill_mode='nearest',\n",
    "    validation_split=0.2\n",
    ")\n",
    "\n",
    "train_data = train_datagen.flow_from_directory(\n",
    "    '/kaggle/input/whole-proper-dataset-for-freshness-detection/FRESHNESSDATASET(PROPER)',\n",
    "    target_size=(244, 244),\n",
    "    batch_size=32,\n",
    "    class_mode='categorical',\n",
    "    subset='training'\n",
    ")\n",
    "\n",
    "val_data = train_datagen.flow_from_directory(\n",
    "    '/kaggle/input/whole-proper-dataset-for-freshness-detection/FRESHNESSDATASET(PROPER)',\n",
    "    target_size=(244, 244),\n",
    "    batch_size=32,\n",
    "    class_mode='categorical',\n",
    "    subset='validation'\n",
    ")\n"
   ]
  },
  {
   "cell_type": "code",
   "execution_count": 3,
   "id": "ee36b274",
   "metadata": {
    "execution": {
     "iopub.execute_input": "2024-10-18T08:56:40.786674Z",
     "iopub.status.busy": "2024-10-18T08:56:40.785903Z",
     "iopub.status.idle": "2024-10-18T08:56:43.994384Z",
     "shell.execute_reply": "2024-10-18T08:56:43.993326Z"
    },
    "papermill": {
     "duration": 3.217583,
     "end_time": "2024-10-18T08:56:43.996892",
     "exception": false,
     "start_time": "2024-10-18T08:56:40.779309",
     "status": "completed"
    },
    "tags": []
   },
   "outputs": [
    {
     "name": "stdout",
     "output_type": "stream",
     "text": [
      "Downloading data from https://storage.googleapis.com/tensorflow/keras-applications/inception_v3/inception_v3_weights_tf_dim_ordering_tf_kernels_notop.h5\n",
      "\u001b[1m87910968/87910968\u001b[0m \u001b[32m━━━━━━━━━━━━━━━━━━━━\u001b[0m\u001b[37m\u001b[0m \u001b[1m0s\u001b[0m 0us/step\n"
     ]
    }
   ],
   "source": [
    "# Load and Customize InceptionV3 Model\n",
    "base_model = InceptionV3(weights='imagenet', include_top=False, input_shape=(244, 244, 3))\n",
    "x = Flatten()(base_model.output)\n",
    "x = Dense(128, activation='relu')(x)\n",
    "x = Dropout(0.5)(x)  # Add Dropout to prevent overfitting\n",
    "output = Dense(26, activation='softmax')(x)\n",
    "model = Model(inputs=base_model.input, outputs=output)\n",
    "\n",
    "model.compile(optimizer=Adam(), loss='categorical_crossentropy', metrics=['accuracy'])"
   ]
  },
  {
   "cell_type": "code",
   "execution_count": 4,
   "id": "532e04d0",
   "metadata": {
    "execution": {
     "iopub.execute_input": "2024-10-18T08:56:44.011475Z",
     "iopub.status.busy": "2024-10-18T08:56:44.010841Z",
     "iopub.status.idle": "2024-10-18T08:56:45.911024Z",
     "shell.execute_reply": "2024-10-18T08:56:45.910231Z"
    },
    "papermill": {
     "duration": 1.909969,
     "end_time": "2024-10-18T08:56:45.913323",
     "exception": false,
     "start_time": "2024-10-18T08:56:44.003354",
     "status": "completed"
    },
    "tags": []
   },
   "outputs": [],
   "source": [
    "# Load InceptionV3 Model with fewer frozen layers\n",
    "base_model = InceptionV3(weights='imagenet', include_top=False, input_shape=(244, 244, 3))\n"
   ]
  },
  {
   "cell_type": "code",
   "execution_count": 5,
   "id": "67f6776e",
   "metadata": {
    "execution": {
     "iopub.execute_input": "2024-10-18T08:56:45.928423Z",
     "iopub.status.busy": "2024-10-18T08:56:45.928069Z",
     "iopub.status.idle": "2024-10-18T08:56:45.936362Z",
     "shell.execute_reply": "2024-10-18T08:56:45.935486Z"
    },
    "papermill": {
     "duration": 0.017496,
     "end_time": "2024-10-18T08:56:45.938295",
     "exception": false,
     "start_time": "2024-10-18T08:56:45.920799",
     "status": "completed"
    },
    "tags": []
   },
   "outputs": [],
   "source": [
    "# Freeze the first 100 layers (instead of all) to allow learning in later layers\n",
    "for layer in base_model.layers[:50]:\n",
    "    layer.trainable = False\n",
    "for layer in base_model.layers[50:]:\n",
    "    layer.trainable = True"
   ]
  },
  {
   "cell_type": "code",
   "execution_count": 6,
   "id": "9cb85461",
   "metadata": {
    "execution": {
     "iopub.execute_input": "2024-10-18T08:56:45.951660Z",
     "iopub.status.busy": "2024-10-18T08:56:45.951036Z",
     "iopub.status.idle": "2024-10-18T08:56:45.986728Z",
     "shell.execute_reply": "2024-10-18T08:56:45.985909Z"
    },
    "papermill": {
     "duration": 0.044833,
     "end_time": "2024-10-18T08:56:45.989145",
     "exception": false,
     "start_time": "2024-10-18T08:56:45.944312",
     "status": "completed"
    },
    "tags": []
   },
   "outputs": [],
   "source": [
    "# Add custom layers\n",
    "x = Flatten()(base_model.output)\n",
    "x = BatchNormalization()(x)  # Adding Batch Normalization\n",
    "x = Dense(256, activation='relu', kernel_regularizer=l2(0.01))(x)  # Added L2 regularization\n",
    "x = Dropout(0.5)(x)  # Dropout rate increased to 0.4 for better regularization\n",
    "output = Dense(26, activation='softmax')(x)\n"
   ]
  },
  {
   "cell_type": "code",
   "execution_count": 7,
   "id": "311d8b32",
   "metadata": {
    "execution": {
     "iopub.execute_input": "2024-10-18T08:56:46.003189Z",
     "iopub.status.busy": "2024-10-18T08:56:46.002818Z",
     "iopub.status.idle": "2024-10-18T08:56:46.054726Z",
     "shell.execute_reply": "2024-10-18T08:56:46.053646Z"
    },
    "papermill": {
     "duration": 0.061922,
     "end_time": "2024-10-18T08:56:46.057315",
     "exception": false,
     "start_time": "2024-10-18T08:56:45.995393",
     "status": "completed"
    },
    "tags": []
   },
   "outputs": [],
   "source": [
    "# Build the final model\n",
    "model = Model(inputs=base_model.input, outputs=output)"
   ]
  },
  {
   "cell_type": "code",
   "execution_count": 8,
   "id": "b60e7fcd",
   "metadata": {
    "execution": {
     "iopub.execute_input": "2024-10-18T08:56:46.072253Z",
     "iopub.status.busy": "2024-10-18T08:56:46.071362Z",
     "iopub.status.idle": "2024-10-18T08:56:46.081880Z",
     "shell.execute_reply": "2024-10-18T08:56:46.080933Z"
    },
    "papermill": {
     "duration": 0.020071,
     "end_time": "2024-10-18T08:56:46.083969",
     "exception": false,
     "start_time": "2024-10-18T08:56:46.063898",
     "status": "completed"
    },
    "tags": []
   },
   "outputs": [],
   "source": [
    "# Compile the model with an increased learning rate for faster learning\n",
    "model.compile(optimizer=Adam(learning_rate=1e-3), loss='categorical_crossentropy', metrics=['accuracy'])\n",
    "\n",
    "model_checkpoint = ModelCheckpoint('best_model_inceptionv3.keras', monitor='val_loss', save_best_only=True)"
   ]
  },
  {
   "cell_type": "code",
   "execution_count": 9,
   "id": "9a4b9737",
   "metadata": {
    "execution": {
     "iopub.execute_input": "2024-10-18T08:56:46.097890Z",
     "iopub.status.busy": "2024-10-18T08:56:46.097527Z",
     "iopub.status.idle": "2024-10-18T08:56:46.102347Z",
     "shell.execute_reply": "2024-10-18T08:56:46.101486Z"
    },
    "papermill": {
     "duration": 0.014155,
     "end_time": "2024-10-18T08:56:46.104300",
     "exception": false,
     "start_time": "2024-10-18T08:56:46.090145",
     "status": "completed"
    },
    "tags": []
   },
   "outputs": [],
   "source": [
    "# EarlyStopping and ModelCheckpoint callbacks to prevent overfitting\n",
    "early_stopping = EarlyStopping(monitor='val_loss', patience=7, restore_best_weights=True)\n",
    "model_checkpoint = ModelCheckpoint('best_model_inceptionv3.keras', monitor='val_loss', save_best_only=True)\n"
   ]
  },
  {
   "cell_type": "code",
   "execution_count": 10,
   "id": "a9a5e3d6",
   "metadata": {
    "execution": {
     "iopub.execute_input": "2024-10-18T08:56:46.118064Z",
     "iopub.status.busy": "2024-10-18T08:56:46.117306Z",
     "iopub.status.idle": "2024-10-18T10:11:13.604684Z",
     "shell.execute_reply": "2024-10-18T10:11:13.603525Z"
    },
    "papermill": {
     "duration": 4467.694724,
     "end_time": "2024-10-18T10:11:13.805123",
     "exception": false,
     "start_time": "2024-10-18T08:56:46.110399",
     "status": "completed"
    },
    "tags": []
   },
   "outputs": [
    {
     "name": "stdout",
     "output_type": "stream",
     "text": [
      "Epoch 1/15\n"
     ]
    },
    {
     "name": "stderr",
     "output_type": "stream",
     "text": [
      "/opt/conda/lib/python3.10/site-packages/keras/src/trainers/data_adapters/py_dataset_adapter.py:121: UserWarning: Your `PyDataset` class should call `super().__init__(**kwargs)` in its constructor. `**kwargs` can include `workers`, `use_multiprocessing`, `max_queue_size`. Do not pass these arguments to `fit()`, as they will be ignored.\n",
      "  self._warn_if_super_not_called()\n",
      "/opt/conda/lib/python3.10/site-packages/PIL/Image.py:1056: UserWarning: Palette images with Transparency expressed in bytes should be converted to RGBA images\n",
      "  warnings.warn(\n",
      "WARNING: All log messages before absl::InitializeLog() is called are written to STDERR\n",
      "I0000 00:00:1729241846.064735      77 service.cc:145] XLA service 0x7f3b240018a0 initialized for platform CUDA (this does not guarantee that XLA will be used). Devices:\n",
      "I0000 00:00:1729241846.064806      77 service.cc:153]   StreamExecutor device (0): Tesla P100-PCIE-16GB, Compute Capability 6.0\n"
     ]
    },
    {
     "name": "stdout",
     "output_type": "stream",
     "text": [
      "\u001b[1m  1/467\u001b[0m \u001b[37m━━━━━━━━━━━━━━━━━━━━\u001b[0m \u001b[1m9:46:48\u001b[0m 76s/step - accuracy: 0.0625 - loss: 9.4153"
     ]
    },
    {
     "name": "stderr",
     "output_type": "stream",
     "text": [
      "I0000 00:00:1729241882.773869      77 device_compiler.h:188] Compiled cluster using XLA!  This line is logged at most once for the lifetime of the process.\n"
     ]
    },
    {
     "name": "stdout",
     "output_type": "stream",
     "text": [
      "\u001b[1m467/467\u001b[0m \u001b[32m━━━━━━━━━━━━━━━━━━━━\u001b[0m\u001b[37m\u001b[0m \u001b[1m499s\u001b[0m 909ms/step - accuracy: 0.1544 - loss: 16.6161 - val_accuracy: 0.2719 - val_loss: 3.6647\n",
      "Epoch 2/15\n",
      "\u001b[1m467/467\u001b[0m \u001b[32m━━━━━━━━━━━━━━━━━━━━\u001b[0m\u001b[37m\u001b[0m \u001b[1m290s\u001b[0m 614ms/step - accuracy: 0.3465 - loss: 2.6485 - val_accuracy: 0.3790 - val_loss: 20.9630\n",
      "Epoch 3/15\n",
      "\u001b[1m467/467\u001b[0m \u001b[32m━━━━━━━━━━━━━━━━━━━━\u001b[0m\u001b[37m\u001b[0m \u001b[1m288s\u001b[0m 610ms/step - accuracy: 0.4967 - loss: 1.9620 - val_accuracy: 0.5952 - val_loss: 1.6016\n",
      "Epoch 4/15\n",
      "\u001b[1m467/467\u001b[0m \u001b[32m━━━━━━━━━━━━━━━━━━━━\u001b[0m\u001b[37m\u001b[0m \u001b[1m282s\u001b[0m 597ms/step - accuracy: 0.6052 - loss: 1.5617 - val_accuracy: 0.4487 - val_loss: 1084.5581\n",
      "Epoch 5/15\n",
      "\u001b[1m467/467\u001b[0m \u001b[32m━━━━━━━━━━━━━━━━━━━━\u001b[0m\u001b[37m\u001b[0m \u001b[1m288s\u001b[0m 610ms/step - accuracy: 0.6561 - loss: 1.3728 - val_accuracy: 0.5109 - val_loss: 5.9836\n",
      "Epoch 6/15\n",
      "\u001b[1m467/467\u001b[0m \u001b[32m━━━━━━━━━━━━━━━━━━━━\u001b[0m\u001b[37m\u001b[0m \u001b[1m284s\u001b[0m 600ms/step - accuracy: 0.6834 - loss: 1.4947 - val_accuracy: 0.6170 - val_loss: 4.2573\n",
      "Epoch 7/15\n",
      "\u001b[1m467/467\u001b[0m \u001b[32m━━━━━━━━━━━━━━━━━━━━\u001b[0m\u001b[37m\u001b[0m \u001b[1m291s\u001b[0m 616ms/step - accuracy: 0.7500 - loss: 1.0261 - val_accuracy: 0.7184 - val_loss: 1.0832\n",
      "Epoch 8/15\n",
      "\u001b[1m467/467\u001b[0m \u001b[32m━━━━━━━━━━━━━━━━━━━━\u001b[0m\u001b[37m\u001b[0m \u001b[1m287s\u001b[0m 608ms/step - accuracy: 0.7656 - loss: 0.9442 - val_accuracy: 0.7061 - val_loss: 1.1183\n",
      "Epoch 9/15\n",
      "\u001b[1m467/467\u001b[0m \u001b[32m━━━━━━━━━━━━━━━━━━━━\u001b[0m\u001b[37m\u001b[0m \u001b[1m291s\u001b[0m 616ms/step - accuracy: 0.7875 - loss: 0.8550 - val_accuracy: 0.6145 - val_loss: 13.2794\n",
      "Epoch 10/15\n",
      "\u001b[1m467/467\u001b[0m \u001b[32m━━━━━━━━━━━━━━━━━━━━\u001b[0m\u001b[37m\u001b[0m \u001b[1m284s\u001b[0m 601ms/step - accuracy: 0.7847 - loss: 1.0257 - val_accuracy: 0.7028 - val_loss: 1.4744\n",
      "Epoch 11/15\n",
      "\u001b[1m467/467\u001b[0m \u001b[32m━━━━━━━━━━━━━━━━━━━━\u001b[0m\u001b[37m\u001b[0m \u001b[1m274s\u001b[0m 580ms/step - accuracy: 0.7348 - loss: 1.8243 - val_accuracy: 0.6856 - val_loss: 1.5711\n",
      "Epoch 12/15\n",
      "\u001b[1m467/467\u001b[0m \u001b[32m━━━━━━━━━━━━━━━━━━━━\u001b[0m\u001b[37m\u001b[0m \u001b[1m274s\u001b[0m 581ms/step - accuracy: 0.7419 - loss: 1.2120 - val_accuracy: 0.6199 - val_loss: 10.3866\n",
      "Epoch 13/15\n",
      "\u001b[1m467/467\u001b[0m \u001b[32m━━━━━━━━━━━━━━━━━━━━\u001b[0m\u001b[37m\u001b[0m \u001b[1m277s\u001b[0m 587ms/step - accuracy: 0.7889 - loss: 0.9822 - val_accuracy: 0.7521 - val_loss: 0.9168\n",
      "Epoch 14/15\n",
      "\u001b[1m467/467\u001b[0m \u001b[32m━━━━━━━━━━━━━━━━━━━━\u001b[0m\u001b[37m\u001b[0m \u001b[1m279s\u001b[0m 590ms/step - accuracy: 0.8211 - loss: 0.7084 - val_accuracy: 0.7227 - val_loss: 0.9714\n",
      "Epoch 15/15\n",
      "\u001b[1m467/467\u001b[0m \u001b[32m━━━━━━━━━━━━━━━━━━━━\u001b[0m\u001b[37m\u001b[0m \u001b[1m277s\u001b[0m 586ms/step - accuracy: 0.8236 - loss: 0.7099 - val_accuracy: 0.7454 - val_loss: 0.9734\n"
     ]
    }
   ],
   "source": [
    "# Train the model with more epochs\n",
    "history = model.fit(\n",
    "    train_data,\n",
    "    epochs=15,  # Increased epochs for better learning\n",
    "    validation_data=val_data,\n",
    "    callbacks=[early_stopping, model_checkpoint]\n",
    ")"
   ]
  },
  {
   "cell_type": "code",
   "execution_count": 11,
   "id": "3c5069b8",
   "metadata": {
    "execution": {
     "iopub.execute_input": "2024-10-18T10:11:14.944584Z",
     "iopub.status.busy": "2024-10-18T10:11:14.944191Z",
     "iopub.status.idle": "2024-10-18T10:11:16.350162Z",
     "shell.execute_reply": "2024-10-18T10:11:16.349256Z"
    },
    "papermill": {
     "duration": 1.980559,
     "end_time": "2024-10-18T10:11:16.352843",
     "exception": false,
     "start_time": "2024-10-18T10:11:14.372284",
     "status": "completed"
    },
    "tags": []
   },
   "outputs": [],
   "source": [
    "# Save the trained model\n",
    "model.save('freshness_detection_model_inceptionv3.h5')"
   ]
  },
  {
   "cell_type": "code",
   "execution_count": 12,
   "id": "5172e00c",
   "metadata": {
    "execution": {
     "iopub.execute_input": "2024-10-18T10:11:17.548804Z",
     "iopub.status.busy": "2024-10-18T10:11:17.548411Z",
     "iopub.status.idle": "2024-10-18T10:13:22.128984Z",
     "shell.execute_reply": "2024-10-18T10:13:22.128039Z"
    },
    "papermill": {
     "duration": 125.139993,
     "end_time": "2024-10-18T10:13:22.130859",
     "exception": false,
     "start_time": "2024-10-18T10:11:16.990866",
     "status": "completed"
    },
    "tags": []
   },
   "outputs": [
    {
     "name": "stdout",
     "output_type": "stream",
     "text": [
      "\u001b[1m117/117\u001b[0m \u001b[32m━━━━━━━━━━━━━━━━━━━━\u001b[0m\u001b[37m\u001b[0m \u001b[1m66s\u001b[0m 520ms/step\n",
      "\u001b[1m117/117\u001b[0m \u001b[32m━━━━━━━━━━━━━━━━━━━━\u001b[0m\u001b[37m\u001b[0m \u001b[1m57s\u001b[0m 484ms/step - accuracy: 0.7570 - loss: 0.8881\n",
      "Test accuracy: 0.76\n"
     ]
    }
   ],
   "source": [
    "# Evaluate Model on Test Data (after training)\n",
    "test_data = val_data  # Assuming val_data also serves as test data in this example\n",
    "test_data.reset()\n",
    "y_true = test_data.classes\n",
    "y_pred = np.argmax(model.predict(test_data), axis=-1)\n",
    "\n",
    "test_loss, test_accuracy = model.evaluate(test_data)\n",
    "print(f'Test accuracy: {test_accuracy:.2f}')"
   ]
  },
  {
   "cell_type": "code",
   "execution_count": 13,
   "id": "41e0dcc0",
   "metadata": {
    "execution": {
     "iopub.execute_input": "2024-10-18T10:13:23.331890Z",
     "iopub.status.busy": "2024-10-18T10:13:23.330924Z",
     "iopub.status.idle": "2024-10-18T10:13:23.337592Z",
     "shell.execute_reply": "2024-10-18T10:13:23.336481Z"
    },
    "papermill": {
     "duration": 0.588056,
     "end_time": "2024-10-18T10:13:23.340130",
     "exception": false,
     "start_time": "2024-10-18T10:13:22.752074",
     "status": "completed"
    },
    "tags": []
   },
   "outputs": [
    {
     "name": "stdout",
     "output_type": "stream",
     "text": [
      "Accuracy: 0.0415\n"
     ]
    }
   ],
   "source": [
    "# Print Test Accuracy\n",
    "test_accuracy = accuracy_score(y_true, y_pred)\n",
    "print(f\"Accuracy: {test_accuracy:.4f}\")\n"
   ]
  },
  {
   "cell_type": "code",
   "execution_count": 14,
   "id": "4b3a325a",
   "metadata": {
    "execution": {
     "iopub.execute_input": "2024-10-18T10:13:24.517216Z",
     "iopub.status.busy": "2024-10-18T10:13:24.516838Z",
     "iopub.status.idle": "2024-10-18T10:15:17.326666Z",
     "shell.execute_reply": "2024-10-18T10:15:17.325602Z"
    },
    "papermill": {
     "duration": 113.390493,
     "end_time": "2024-10-18T10:15:17.328635",
     "exception": false,
     "start_time": "2024-10-18T10:13:23.938142",
     "status": "completed"
    },
    "tags": []
   },
   "outputs": [
    {
     "name": "stdout",
     "output_type": "stream",
     "text": [
      "\u001b[1m100/117\u001b[0m \u001b[32m━━━━━━━━━━━━━━━━━\u001b[0m\u001b[37m━━━\u001b[0m \u001b[1m8s\u001b[0m 481ms/step"
     ]
    },
    {
     "name": "stderr",
     "output_type": "stream",
     "text": [
      "/opt/conda/lib/python3.10/site-packages/PIL/Image.py:1056: UserWarning: Palette images with Transparency expressed in bytes should be converted to RGBA images\n",
      "  warnings.warn(\n"
     ]
    },
    {
     "name": "stdout",
     "output_type": "stream",
     "text": [
      "\u001b[1m117/117\u001b[0m \u001b[32m━━━━━━━━━━━━━━━━━━━━\u001b[0m\u001b[37m\u001b[0m \u001b[1m56s\u001b[0m 477ms/step\n",
      "\u001b[1m 39/117\u001b[0m \u001b[32m━━━━━━\u001b[0m\u001b[37m━━━━━━━━━━━━━━\u001b[0m \u001b[1m38s\u001b[0m 496ms/step"
     ]
    },
    {
     "name": "stderr",
     "output_type": "stream",
     "text": [
      "/opt/conda/lib/python3.10/site-packages/PIL/Image.py:1056: UserWarning: Palette images with Transparency expressed in bytes should be converted to RGBA images\n",
      "  warnings.warn(\n"
     ]
    },
    {
     "name": "stdout",
     "output_type": "stream",
     "text": [
      "\u001b[1m117/117\u001b[0m \u001b[32m━━━━━━━━━━━━━━━━━━━━\u001b[0m\u001b[37m\u001b[0m \u001b[1m55s\u001b[0m 468ms/step\n",
      "Precision: 0.0406\n",
      "Recall: 0.0415\n",
      "F1 Score: 0.0388\n",
      "ROC AUC: 0.4947\n",
      "Log Loss: 10.2525\n"
     ]
    }
   ],
   "source": [
    "# Calculate other Evaluation Metrics\n",
    "precision = precision_score(y_true, y_pred, average='weighted')\n",
    "recall = recall_score(y_true, y_pred, average='weighted')\n",
    "f1 = f1_score(y_true, y_pred, average='weighted')\n",
    "roc_auc = roc_auc_score(to_categorical(y_true), model.predict(test_data), multi_class='ovr')\n",
    "log_loss_value = log_loss(to_categorical(y_true), model.predict(test_data))\n",
    "\n",
    "print(f\"Precision: {precision:.4f}\")\n",
    "print(f\"Recall: {recall:.4f}\")\n",
    "print(f\"F1 Score: {f1:.4f}\")\n",
    "print(f\"ROC AUC: {roc_auc:.4f}\")\n",
    "print(f\"Log Loss: {log_loss_value:.4f}\")\n"
   ]
  },
  {
   "cell_type": "code",
   "execution_count": 15,
   "id": "35aa06dd",
   "metadata": {
    "execution": {
     "iopub.execute_input": "2024-10-18T10:15:18.560056Z",
     "iopub.status.busy": "2024-10-18T10:15:18.559360Z",
     "iopub.status.idle": "2024-10-18T10:15:19.057385Z",
     "shell.execute_reply": "2024-10-18T10:15:19.056492Z"
    },
    "papermill": {
     "duration": 1.093779,
     "end_time": "2024-10-18T10:15:19.059435",
     "exception": false,
     "start_time": "2024-10-18T10:15:17.965656",
     "status": "completed"
    },
    "tags": []
   },
   "outputs": [
    {
     "data": {
      "image/png": "[encoded data removed]",
      "text/plain": [
       "<Figure size 1200x500 with 2 Axes>"
      ]
     },
     "metadata": {},
     "output_type": "display_data"
    }
   ],
   "source": [
    "# Plot Training and Validation Accuracy and Loss\n",
    "plt.figure(figsize=(12, 5))\n",
    "plt.subplot(1, 2, 1)\n",
    "plt.plot(history.history['accuracy'], label='Training Accuracy')\n",
    "plt.plot(history.history['val_accuracy'], label='Validation Accuracy')\n",
    "plt.title('Accuracy')\n",
    "plt.xlabel('Epochs')\n",
    "plt.ylabel('Accuracy')\n",
    "plt.legend()\n",
    "\n",
    "plt.subplot(1, 2, 2)\n",
    "plt.plot(history.history['loss'], label='Training Loss')\n",
    "plt.plot(history.history['val_loss'], label='Validation Loss')\n",
    "plt.title('Loss')\n",
    "plt.xlabel('Epochs')\n",
    "plt.ylabel('Loss')\n",
    "plt.legend()\n",
    "\n",
    "plt.show()"
   ]
  },
  {
   "cell_type": "code",
   "execution_count": null,
   "id": "84ba224f",
   "metadata": {
    "papermill": {
     "duration": 0.633266,
     "end_time": "2024-10-18T10:15:20.291519",
     "exception": false,
     "start_time": "2024-10-18T10:15:19.658253",
     "status": "completed"
    },
    "tags": []
   },
   "outputs": [],
   "source": []
  },
  {
   "cell_type": "code",
   "execution_count": null,
   "id": "09c0e68a",
   "metadata": {
    "papermill": {
     "duration": 0.603579,
     "end_time": "2024-10-18T10:15:21.488321",
     "exception": false,
     "start_time": "2024-10-18T10:15:20.884742",
     "status": "completed"
    },
    "tags": []
   },
   "outputs": [],
   "source": []
  }
 ],
 "metadata": {
  "kaggle": {
   "accelerator": "gpu",
   "dataSources": [
    {
     "datasetId": 5896474,
     "sourceId": 9653094,
     "sourceType": "datasetVersion"
    }
   ],
   "dockerImageVersionId": 30787,
   "isGpuEnabled": true,
   "isInternetEnabled": true,
   "language": "python",
   "sourceType": "notebook"
  },
  "kernelspec": {
   "display_name": "Python 3",
   "language": "python",
   "name": "python3"
  },
  "language_info": {
   "codemirror_mode": {
    "name": "ipython",
    "version": 3
   },
   "file_extension": ".py",
   "mimetype": "text/x-python",
   "name": "python",
   "nbconvert_exporter": "python",
   "pygments_lexer": "ipython3",
   "version": "3.10.14"
  },
  "papermill": {
   "default_parameters": {},
   "duration": 4749.182727,
   "end_time": "2024-10-18T10:15:25.481057",
   "environment_variables": {},
   "exception": null,
   "input_path": "__notebook__.ipynb",
   "output_path": "__notebook__.ipynb",
   "parameters": {},
   "start_time": "2024-10-18T08:56:16.298330",
   "version": "2.6.0"
  }
 },
 "nbformat": 4,
 "nbformat_minor": 5
}
